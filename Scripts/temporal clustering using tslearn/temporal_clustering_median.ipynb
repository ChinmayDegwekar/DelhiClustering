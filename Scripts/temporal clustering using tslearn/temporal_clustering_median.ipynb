{
 "cells": [
  {
   "cell_type": "code",
   "execution_count": 38,
   "metadata": {},
   "outputs": [],
   "source": [
    "import tslearn\n",
    "import numpy as np\n",
    "import pandas as pd"
   ]
  },
  {
   "cell_type": "code",
   "execution_count": 39,
   "metadata": {},
   "outputs": [
    {
     "name": "stdout",
     "output_type": "stream",
     "text": [
      "(32, 205)\n"
     ]
    }
   ],
   "source": [
    "df_input = pd.read_csv('dataset_median.csv',header=None)\n",
    "np_input = df_input.values\n",
    "print(np_input.shape)"
   ]
  },
  {
   "cell_type": "code",
   "execution_count": 40,
   "metadata": {},
   "outputs": [
    {
     "name": "stdout",
     "output_type": "stream",
     "text": [
      "(32, 204)\n"
     ]
    }
   ],
   "source": [
    "X_train = np_input[:,1:]\n",
    "print(X_train.shape)"
   ]
  },
  {
   "cell_type": "code",
   "execution_count": 41,
   "metadata": {},
   "outputs": [
    {
     "name": "stderr",
     "output_type": "stream",
     "text": [
      "c:\\users\\chinmay\\appdata\\local\\programs\\python\\python37\\lib\\site-packages\\tslearn\\utils.py:91: UserWarning: 2-Dimensional data passed. Assuming these are 32 1-dimensional timeseries\n",
      "  '{} 1-dimensional timeseries'.format(X.shape[0]))\n"
     ]
    },
    {
     "name": "stdout",
     "output_type": "stream",
     "text": [
      "114027.88754985531\n",
      "32 ----------------------------------------\n"
     ]
    },
    {
     "name": "stderr",
     "output_type": "stream",
     "text": [
      "c:\\users\\chinmay\\appdata\\local\\programs\\python\\python37\\lib\\site-packages\\tslearn\\utils.py:91: UserWarning: 2-Dimensional data passed. Assuming these are 32 1-dimensional timeseries\n",
      "  '{} 1-dimensional timeseries'.format(X.shape[0]))\n"
     ]
    },
    {
     "name": "stdout",
     "output_type": "stream",
     "text": [
      "83781.548251364\n",
      "10 22 ----------------------------------------\n"
     ]
    },
    {
     "name": "stderr",
     "output_type": "stream",
     "text": [
      "c:\\users\\chinmay\\appdata\\local\\programs\\python\\python37\\lib\\site-packages\\tslearn\\utils.py:91: UserWarning: 2-Dimensional data passed. Assuming these are 32 1-dimensional timeseries\n",
      "  '{} 1-dimensional timeseries'.format(X.shape[0]))\n"
     ]
    },
    {
     "name": "stdout",
     "output_type": "stream",
     "text": [
      "74178.35551859582\n",
      "15 9 8 ----------------------------------------\n"
     ]
    },
    {
     "name": "stderr",
     "output_type": "stream",
     "text": [
      "c:\\users\\chinmay\\appdata\\local\\programs\\python\\python37\\lib\\site-packages\\tslearn\\utils.py:91: UserWarning: 2-Dimensional data passed. Assuming these are 32 1-dimensional timeseries\n",
      "  '{} 1-dimensional timeseries'.format(X.shape[0]))\n"
     ]
    },
    {
     "name": "stdout",
     "output_type": "stream",
     "text": [
      "70948.52549923344\n",
      "19 6 4 3 ----------------------------------------\n"
     ]
    },
    {
     "name": "stderr",
     "output_type": "stream",
     "text": [
      "c:\\users\\chinmay\\appdata\\local\\programs\\python\\python37\\lib\\site-packages\\tslearn\\utils.py:91: UserWarning: 2-Dimensional data passed. Assuming these are 32 1-dimensional timeseries\n",
      "  '{} 1-dimensional timeseries'.format(X.shape[0]))\n"
     ]
    },
    {
     "name": "stdout",
     "output_type": "stream",
     "text": [
      "67113.93405249927\n",
      "12 3 9 7 1 ----------------------------------------\n"
     ]
    },
    {
     "name": "stderr",
     "output_type": "stream",
     "text": [
      "c:\\users\\chinmay\\appdata\\local\\programs\\python\\python37\\lib\\site-packages\\tslearn\\utils.py:91: UserWarning: 2-Dimensional data passed. Assuming these are 32 1-dimensional timeseries\n",
      "  '{} 1-dimensional timeseries'.format(X.shape[0]))\n"
     ]
    },
    {
     "name": "stdout",
     "output_type": "stream",
     "text": [
      "60515.48586083911\n",
      "1 8 11 4 1 7 ----------------------------------------\n"
     ]
    },
    {
     "name": "stderr",
     "output_type": "stream",
     "text": [
      "c:\\users\\chinmay\\appdata\\local\\programs\\python\\python37\\lib\\site-packages\\tslearn\\utils.py:91: UserWarning: 2-Dimensional data passed. Assuming these are 32 1-dimensional timeseries\n",
      "  '{} 1-dimensional timeseries'.format(X.shape[0]))\n"
     ]
    },
    {
     "name": "stdout",
     "output_type": "stream",
     "text": [
      "53125.00929719898\n",
      "5 4 3 7 4 2 7 ----------------------------------------\n"
     ]
    },
    {
     "name": "stderr",
     "output_type": "stream",
     "text": [
      "c:\\users\\chinmay\\appdata\\local\\programs\\python\\python37\\lib\\site-packages\\tslearn\\utils.py:91: UserWarning: 2-Dimensional data passed. Assuming these are 32 1-dimensional timeseries\n",
      "  '{} 1-dimensional timeseries'.format(X.shape[0]))\n"
     ]
    },
    {
     "name": "stdout",
     "output_type": "stream",
     "text": [
      "52165.343853186816\n",
      "10 2 2 2 6 7 1 2 ----------------------------------------\n"
     ]
    },
    {
     "name": "stderr",
     "output_type": "stream",
     "text": [
      "c:\\users\\chinmay\\appdata\\local\\programs\\python\\python37\\lib\\site-packages\\tslearn\\utils.py:91: UserWarning: 2-Dimensional data passed. Assuming these are 32 1-dimensional timeseries\n",
      "  '{} 1-dimensional timeseries'.format(X.shape[0]))\n"
     ]
    },
    {
     "name": "stdout",
     "output_type": "stream",
     "text": [
      "46922.18955823811\n",
      "3 7 3 3 5 5 4 1 1 ----------------------------------------\n"
     ]
    }
   ],
   "source": [
    "from scipy.spatial.distance import cdist \n",
    "from tslearn.clustering import TimeSeriesKMeans\n",
    "distortions = [] \n",
    "inertias = [] \n",
    "mapping1 = {}   # Used for distortion calculation, didnt use\n",
    "mapping2 = {} \n",
    "K = range(1,10) \n",
    "  \n",
    "for k in K: \n",
    "    #Building and fitting the model \n",
    "#     kmeanModel = KMeans(n_clusters=k).fit(X) \n",
    "    km = TimeSeriesKMeans(n_clusters=k, metric=\"dtw\",max_iter = 900,tol = 1e-08)\n",
    "    km.fit(X_train)     \n",
    "      \n",
    "    inertias.append(km.inertia_) \n",
    "    predictions = km.predict(X_train)\n",
    "  \n",
    "    print(km.inertia_)\n",
    "    mapping2[k] = km.inertia_ \n",
    "    for c in range(k):\n",
    "        c_0 = np.argwhere(predictions==c)\n",
    "        print(c_0.shape[0],end=' ')\n",
    "    print('----------------------------------------')"
   ]
  },
  {
   "cell_type": "code",
   "execution_count": 42,
   "metadata": {},
   "outputs": [
    {
     "data": {
      "image/png": "[encoded data removed]",
      "text/plain": [
       "<Figure size 432x288 with 1 Axes>"
      ]
     },
     "metadata": {
      "needs_background": "light"
     },
     "output_type": "display_data"
    }
   ],
   "source": [
    "import matplotlib.pyplot as plt \n",
    "plt.plot(K, inertias, 'bx-') \n",
    "plt.xlabel('Values of K') \n",
    "plt.ylabel('Inertia') \n",
    "plt.title('The Elbow Method using Inertia') \n",
    "plt.show() "
   ]
  },
  {
   "cell_type": "code",
   "execution_count": 47,
   "metadata": {},
   "outputs": [
    {
     "data": {
      "text/plain": [
       "TimeSeriesKMeans(dtw_inertia=False, init='k-means++', max_iter=900,\n",
       "                 max_iter_barycenter=100, metric='dtw', metric_params=None,\n",
       "                 n_clusters=3, n_init=1, n_jobs=None, random_state=3, tol=1e-08,\n",
       "                 verbose=0)"
      ]
     },
     "execution_count": 47,
     "metadata": {},
     "output_type": "execute_result"
    }
   ],
   "source": [
    "from tslearn.clustering import TimeSeriesKMeans\n",
    "km = TimeSeriesKMeans(n_clusters=3, metric=\"dtw\",max_iter = 900,tol = 1e-08,random_state=3)\n",
    "km.fit(X_train)"
   ]
  },
  {
   "cell_type": "code",
   "execution_count": 48,
   "metadata": {},
   "outputs": [
    {
     "name": "stderr",
     "output_type": "stream",
     "text": [
      "c:\\users\\chinmay\\appdata\\local\\programs\\python\\python37\\lib\\site-packages\\tslearn\\utils.py:91: UserWarning: 2-Dimensional data passed. Assuming these are 32 1-dimensional timeseries\n",
      "  '{} 1-dimensional timeseries'.format(X.shape[0]))\n"
     ]
    },
    {
     "name": "stdout",
     "output_type": "stream",
     "text": [
      "14 10 8 [0. 1. 1. 0. 1. 2. 2. 0. 0. 1. 0. 0. 2. 1. 2. 1. 0. 0. 2. 2. 0. 0. 1. 0.\n",
      " 2. 1. 2. 1. 0. 1. 0. 0.]\n"
     ]
    }
   ],
   "source": [
    "predictions = km.predict(X_train)\n",
    "for c in range(3):\n",
    "    c_0 = np.argwhere(predictions==c)\n",
    "    print(c_0.shape[0],end=' ')\n",
    "c_assign = np.zeros(32)\n",
    "for k in range(3):\n",
    "    c_0 = np.argwhere(predictions==k)\n",
    "    c_assign[c_0] = k\n",
    "#     print(k,c_0)\n",
    "print(c_assign)"
   ]
  },
  {
   "cell_type": "code",
   "execution_count": 49,
   "metadata": {},
   "outputs": [
    {
     "name": "stdout",
     "output_type": "stream",
     "text": [
      "[ 0  3  7  8 10 11 16 17 20 21 23 28 30 31] 96.53186274509804\n",
      "[ 0  3  7  8 10 11 16 17 20 21 23 28 30 31] 106.46845588235301\n",
      "[ 0  3  7  8 10 11 16 17 20 21 23 28 30 31] 106.94852941176471\n",
      "[ 0  3  7  8 10 11 16 17 20 21 23 28 30 31] 90.32107843137256\n",
      "[ 0  3  7  8 10 11 16 17 20 21 23 28 30 31] 99.64950980392157\n",
      "[ 0  3  7  8 10 11 16 17 20 21 23 28 30 31] 95.02450980392157\n",
      "[ 0  3  7  8 10 11 16 17 20 21 23 28 30 31] 86.93455882352931\n",
      "[ 0  3  7  8 10 11 16 17 20 21 23 28 30 31] 93.4779411764706\n",
      "[ 0  3  7  8 10 11 16 17 20 21 23 28 30 31] 88.69497549019609\n",
      "[ 0  3  7  8 10 11 16 17 20 21 23 28 30 31] 87.18625000000003\n",
      "[ 0  3  7  8 10 11 16 17 20 21 23 28 30 31] 83.04411764705883\n",
      "[ 0  3  7  8 10 11 16 17 20 21 23 28 30 31] 88.63480392156863\n",
      "[ 0  3  7  8 10 11 16 17 20 21 23 28 30 31] 79.27522058823529\n",
      "[ 0  3  7  8 10 11 16 17 20 21 23 28 30 31] 87.61083333333333\n",
      "cluster  0 --> 92.12876050420168\n",
      "[ 1  2  4  9 13 15 22 25 27 29] 115.28676470588235\n",
      "[ 1  2  4  9 13 15 22 25 27 29] 109.92647058823529\n",
      "[ 1  2  4  9 13 15 22 25 27 29] 104.37009803921569\n",
      "[ 1  2  4  9 13 15 22 25 27 29] 95.82107843137256\n",
      "[ 1  2  4  9 13 15 22 25 27 29] 97.57107843137256\n",
      "[ 1  2  4  9 13 15 22 25 27 29] 101.86781862745097\n",
      "[ 1  2  4  9 13 15 22 25 27 29] 100.70343137254902\n",
      "[ 1  2  4  9 13 15 22 25 27 29] 104.16666666666667\n",
      "[ 1  2  4  9 13 15 22 25 27 29] 116.53676470588235\n",
      "[ 1  2  4  9 13 15 22 25 27 29] 110.79071078431373\n",
      "cluster  1 --> 105.70408823529412\n",
      "[ 5  6 12 14 18 19 24 26] 118.42892156862744\n",
      "[ 5  6 12 14 18 19 24 26] 122.33578431372548\n",
      "[ 5  6 12 14 18 19 24 26] 125.76470588235294\n",
      "[ 5  6 12 14 18 19 24 26] 128.2107843137255\n",
      "[ 5  6 12 14 18 19 24 26] 131.85049019607843\n",
      "[ 5  6 12 14 18 19 24 26] 122.9779411764706\n",
      "[ 5  6 12 14 18 19 24 26] 127.80882352941177\n",
      "[ 5  6 12 14 18 19 24 26] 118.92458333333336\n",
      "cluster  2 --> 124.53775428921568\n"
     ]
    },
    {
     "data": {
      "image/png": "[encoded data removed]",
      "text/plain": [
       "<Figure size 432x288 with 1 Axes>"
      ]
     },
     "metadata": {
      "needs_background": "light"
     },
     "output_type": "display_data"
    }
   ],
   "source": [
    "x = [ i for i in range(204)]\n",
    "\n",
    "colors = ['green','red','blue','yellow','purple','cyan']\n",
    "K = 3\n",
    "for k in range(K):\n",
    "    cluster_avg = 0\n",
    "    size =0\n",
    "    c_k_stations = np.argwhere(c_assign == k).flatten()\n",
    "    cluster_trend = np.zeros((204,))\n",
    "#     print(cluster_trend.shape)\n",
    "    for station in c_k_stations:\n",
    "        \n",
    "        temporal_trend_max  = X_train[station]\n",
    "        y = temporal_trend_max\n",
    "#         print(y.shape)\n",
    "        cluster_trend  = cluster_trend + y\n",
    "        cluster_avg += np.sum(y)\n",
    "        print(c_k_stations,np.sum(y)/204)\n",
    "        size +=1\n",
    "#         if(k in [0,1]):\n",
    "#         plt.plot(x,y,color = colors[k])\n",
    "    # Single trend per cluster\n",
    "    cluster_trend = cluster_trend / size\n",
    "#     if(k==0):\n",
    "    plt.plot(x,cluster_trend,color = colors[k],label = \"Cluster \"+str(k+1))\n",
    "    print(\"cluster \",k,\"-->\",cluster_avg/(size*204))\n",
    "    \n",
    "plt.legend(loc=\"upper left\")\n",
    "plt.show()\n",
    "\n",
    "    "
   ]
  },
  {
   "cell_type": "code",
   "execution_count": null,
   "metadata": {},
   "outputs": [],
   "source": []
  }
 ],
 "metadata": {
  "kernelspec": {
   "display_name": "Python 3",
   "language": "python",
   "name": "python3"
  },
  "language_info": {
   "codemirror_mode": {
    "name": "ipython",
    "version": 3
   },
   "file_extension": ".py",
   "mimetype": "text/x-python",
   "name": "python",
   "nbconvert_exporter": "python",
   "pygments_lexer": "ipython3",
   "version": "3.7.6"
  }
 },
 "nbformat": 4,
 "nbformat_minor": 4
}
