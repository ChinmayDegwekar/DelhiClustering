{
 "cells": [
  {
   "cell_type": "code",
   "execution_count": 1,
   "metadata": {},
   "outputs": [],
   "source": [
    "import tslearn\n",
    "import numpy as np\n",
    "import pandas as pd"
   ]
  },
  {
   "cell_type": "code",
   "execution_count": 71,
   "metadata": {},
   "outputs": [
    {
     "name": "stdout",
     "output_type": "stream",
     "text": [
      "(409,)\n"
     ]
    }
   ],
   "source": [
    "df_input = pd.read_csv('dataset.csv',header=None)\n",
    "np_input = df_input.values\n",
    "print(np_input[0][:].shape)"
   ]
  },
  {
   "cell_type": "code",
   "execution_count": 3,
   "metadata": {},
   "outputs": [
    {
     "name": "stdout",
     "output_type": "stream",
     "text": [
      "(32, 204, 2)\n"
     ]
    },
    {
     "name": "stderr",
     "output_type": "stream",
     "text": [
      "c:\\users\\chinmay\\appdata\\local\\programs\\python\\python37\\lib\\site-packages\\tslearn\\bases.py:15: UserWarning: h5py not installed, hdf5 features will not be supported.\n",
      "Install h5py to use hdf5 features: http://docs.h5py.org/\n",
      "  warn(h5py_msg)\n"
     ]
    }
   ],
   "source": [
    "from tslearn.utils import to_time_series_dataset\n",
    "number_of_stations= np_input.shape[0]\n",
    "number_of_timesteps =  (int)((np_input.shape[1]-1 )/2)\n",
    "number_of_features = 2 # min max\n",
    "X_train = np.zeros(( number_of_stations, number_of_timesteps,  number_of_features  ))\n",
    "for i in range(number_of_stations):     #np_input.shape[0]):\n",
    "    \n",
    "    time_steps = (int)((np_input.shape[1]-1 )/2)\n",
    "#     print(time_steps)\n",
    "    ts = np.zeros(( time_steps , 2 ))\n",
    "    for j in range(1,np_input.shape[1],2):\n",
    "        [mi,ma] = [ np_input[i][j],np_input[i][j+1] ]\n",
    "        ts[(int)((j-1)/2)] = [mi,ma]\n",
    "#     print(ts.shape)\n",
    "    X_train[i] = ts\n",
    "    \n",
    "print(X_train.shape)\n"
   ]
  },
  {
   "cell_type": "code",
   "execution_count": 7,
   "metadata": {
    "collapsed": true
   },
   "outputs": [
    {
     "name": "stdout",
     "output_type": "stream",
     "text": [
      "0 [[ 0]\n",
      " [ 3]\n",
      " [ 4]\n",
      " [ 7]\n",
      " [ 8]\n",
      " [ 9]\n",
      " [10]\n",
      " [11]\n",
      " [13]\n",
      " [16]\n",
      " [17]\n",
      " [21]\n",
      " [23]\n",
      " [27]\n",
      " [28]\n",
      " [30]\n",
      " [31]]\n",
      "1 [[18]]\n",
      "2 [[29]]\n",
      "3 [[ 6]\n",
      " [14]\n",
      " [15]\n",
      " [20]\n",
      " [25]\n",
      " [26]]\n",
      "4 [[22]]\n",
      "5 [[ 1]\n",
      " [ 2]\n",
      " [ 5]\n",
      " [12]\n",
      " [19]\n",
      " [24]]\n"
     ]
    }
   ],
   "source": [
    "from tslearn.clustering import TimeSeriesKMeans\n",
    "km = TimeSeriesKMeans(n_clusters=6, metric=\"dtw\",max_iter = 900,tol = 1e-08,random_state= 12)\n",
    "km.fit(X_train)\n"
   ]
  },
  {
   "cell_type": "code",
   "execution_count": 58,
   "metadata": {},
   "outputs": [
    {
     "name": "stdout",
     "output_type": "stream",
     "text": [
      "[0. 5. 5. 0. 0. 5. 3. 0. 0. 0. 0. 0. 5. 0. 3. 3. 0. 0. 1. 5. 3. 0. 4. 0.\n",
      " 5. 3. 3. 0. 0. 2. 0. 0.]\n"
     ]
    }
   ],
   "source": [
    "predictions = km.predict(X_train)\n",
    "c_assign = np.zeros(32)\n",
    "for k in range(6):\n",
    "    c_0 = np.argwhere(predictions==k)\n",
    "    c_assign[c_0] = k\n",
    "#     print(k,c_0)\n",
    "print(c_assign)\n",
    "    "
   ]
  },
  {
   "cell_type": "code",
   "execution_count": 6,
   "metadata": {},
   "outputs": [
    {
     "name": "stdout",
     "output_type": "stream",
     "text": [
      "(32, 204, 2)\n"
     ]
    }
   ],
   "source": [
    "# Assign cluster assignments\n",
    "print(X_train.shape)"
   ]
  },
  {
   "cell_type": "code",
   "execution_count": 55,
   "metadata": {},
   "outputs": [
    {
     "name": "stdout",
     "output_type": "stream",
     "text": [
      "(204, 32)\n",
      "[[102.          33.          48.         100.15        36.\n",
      "   88.          56.          55.          80.          57.\n",
      "   48.          60.          40.33333333  41.          68.\n",
      "   74.67        52.23333333  40.         129.          69.33333333\n",
      "   90.1         60.39333333  37.33333333  66.         436.\n",
      "   62.33333333  84.52        42.          35.          58.\n",
      "   39.93        63.59      ]\n",
      " [ 55.          79.          58.          75.93        56.\n",
      "   48.          85.         106.          62.          74.\n",
      "   47.          43.33333333  68.66666667  52.66666667  98.66666667\n",
      "  100.13333333  70.33333333  57.         116.          70.\n",
      "  126.88        63.63666667  62.66666667  97.          52.\n",
      "   84.33333333  71.68666667  55.33333333  60.         113.66666667\n",
      "  413.01        70.80333333]\n",
      " [ 56.         100.          63.66666667 101.07        74.\n",
      "   74.         122.          77.66666667  75.          96.66666667\n",
      "  100.         110.         114.          65.         146.\n",
      "  103.7         93.          65.33333333 146.          80.\n",
      "  128.60333333  70.03        64.         100.          83.\n",
      "   91.         103.         100.          90.          83.66666667\n",
      "  396.27       105.97333333]\n",
      " [ 72.          98.         112.33333333 142.28        88.66666667\n",
      "   75.         116.         100.          88.33333333 138.\n",
      "   70.         103.33333333 155.66666667  86.          99.\n",
      "  138.00666667  84.3        118.         153.          98.33333333\n",
      "  286.99        89.27666667  69.          92.          91.\n",
      "   92.          97.42       122.          85.         108.\n",
      "   69.04333333 119.19333333]\n",
      " [107.          96.66666667 103.33333333 107.62666667  97.\n",
      "  100.66666667 111.         107.33333333 106.33333333  74.\n",
      "   93.         121.33333333  99.          77.33333333 123.\n",
      "  115.02666667  83.63333333  83.          94.          88.\n",
      "  614.76       106.02666667  85.          93.         145.66666667\n",
      "  153.         147.86666667 102.          92.          91.66666667\n",
      "  180.03666667 123.89666667]]\n"
     ]
    }
   ],
   "source": [
    "five_station_max =  X_train.T[0]\n",
    "# two_station_min_max = X_train[18,29]\n",
    "print(five_station_max.shape)\n",
    "print(five_station_max[:5])"
   ]
  },
  {
   "cell_type": "code",
   "execution_count": 51,
   "metadata": {},
   "outputs": [
    {
     "data": {
      "text/plain": [
       "[<matplotlib.lines.Line2D at 0x13493bf7c8>,\n",
       " <matplotlib.lines.Line2D at 0x13493de648>,\n",
       " <matplotlib.lines.Line2D at 0x13493de808>,\n",
       " <matplotlib.lines.Line2D at 0x13493de9c8>,\n",
       " <matplotlib.lines.Line2D at 0x13493debc8>,\n",
       " <matplotlib.lines.Line2D at 0x13493dee48>,\n",
       " <matplotlib.lines.Line2D at 0x13493f8088>,\n",
       " <matplotlib.lines.Line2D at 0x13493f82c8>,\n",
       " <matplotlib.lines.Line2D at 0x13493deb88>,\n",
       " <matplotlib.lines.Line2D at 0x13493dedc8>,\n",
       " <matplotlib.lines.Line2D at 0x13492f34c8>,\n",
       " <matplotlib.lines.Line2D at 0x13493f8b08>,\n",
       " <matplotlib.lines.Line2D at 0x13493f8d48>,\n",
       " <matplotlib.lines.Line2D at 0x13493f8f88>,\n",
       " <matplotlib.lines.Line2D at 0x1349204208>,\n",
       " <matplotlib.lines.Line2D at 0x1349204448>,\n",
       " <matplotlib.lines.Line2D at 0x1349204688>]"
      ]
     },
     "execution_count": 51,
     "metadata": {},
     "output_type": "execute_result"
    },
    {
     "data": {
      "image/png": "[encoded data removed]",
      "text/plain": [
       "<Figure size 432x288 with 1 Axes>"
      ]
     },
     "metadata": {
      "needs_background": "light"
     },
     "output_type": "display_data"
    }
   ],
   "source": [
    "\n",
    "# one_station_min_max.reshape((1,204,2))\n",
    "\n",
    "# np.reshape(one_station_min_max,(1,204,2) )\n",
    "\n",
    "one_station_max = one_station_min_max.T[0]\n",
    "x = [ i for i in range(204)]\n",
    "# print(x.s)\n",
    "y = five_station_max\n",
    "from matplotlib import pyplot as plt\n",
    "plt.plot(x,y)"
   ]
  },
  {
   "cell_type": "code",
   "execution_count": 54,
   "metadata": {},
   "outputs": [
    {
     "data": {
      "image/png": "[encoded data removed]",
      "text/plain": [
       "<Figure size 432x288 with 1 Axes>"
      ]
     },
     "metadata": {
      "needs_background": "light"
     },
     "output_type": "display_data"
    }
   ],
   "source": [
    "# Plot each cluster max values\n",
    "K = 2\n",
    "for k in range(K):\n",
    "    x = [ i for i in range(204)]\n",
    "# print(x.s)\n",
    "     \n",
    "    y = X_train[c_assign[k].flatten()  ].T[0]\n",
    "    from matplotlib import pyplot as plt\n",
    "    plt.plot(x,y)\n",
    "#     plt.show()"
   ]
  },
  {
   "cell_type": "code",
   "execution_count": 63,
   "metadata": {},
   "outputs": [
    {
     "name": "stdout",
     "output_type": "stream",
     "text": [
      "(204, 32)\n"
     ]
    },
    {
     "ename": "ValueError",
     "evalue": "'c' argument has 32 elements, which is not acceptable for use with 'x' with size 6528, 'y' with size 6528.",
     "output_type": "error",
     "traceback": [
      "\u001b[1;31m---------------------------------------------------------------------------\u001b[0m",
      "\u001b[1;31mValueError\u001b[0m                                Traceback (most recent call last)",
      "\u001b[1;32mc:\\users\\chinmay\\appdata\\local\\programs\\python\\python37\\lib\\site-packages\\matplotlib\\axes\\_axes.py\u001b[0m in \u001b[0;36m_parse_scatter_color_args\u001b[1;34m(c, edgecolors, kwargs, xshape, yshape, get_next_color_func)\u001b[0m\n\u001b[0;32m   4283\u001b[0m             \u001b[1;32mtry\u001b[0m\u001b[1;33m:\u001b[0m  \u001b[1;31m# Then is 'c' acceptable as PathCollection facecolors?\u001b[0m\u001b[1;33m\u001b[0m\u001b[1;33m\u001b[0m\u001b[0m\n\u001b[1;32m-> 4284\u001b[1;33m                 \u001b[0mcolors\u001b[0m \u001b[1;33m=\u001b[0m \u001b[0mmcolors\u001b[0m\u001b[1;33m.\u001b[0m\u001b[0mto_rgba_array\u001b[0m\u001b[1;33m(\u001b[0m\u001b[0mc\u001b[0m\u001b[1;33m)\u001b[0m\u001b[1;33m\u001b[0m\u001b[1;33m\u001b[0m\u001b[0m\n\u001b[0m\u001b[0;32m   4285\u001b[0m                 \u001b[0mn_elem\u001b[0m \u001b[1;33m=\u001b[0m \u001b[0mcolors\u001b[0m\u001b[1;33m.\u001b[0m\u001b[0mshape\u001b[0m\u001b[1;33m[\u001b[0m\u001b[1;36m0\u001b[0m\u001b[1;33m]\u001b[0m\u001b[1;33m\u001b[0m\u001b[1;33m\u001b[0m\u001b[0m\n",
      "\u001b[1;32mc:\\users\\chinmay\\appdata\\local\\programs\\python\\python37\\lib\\site-packages\\matplotlib\\colors.py\u001b[0m in \u001b[0;36mto_rgba_array\u001b[1;34m(c, alpha)\u001b[0m\n\u001b[0;32m    293\u001b[0m     \u001b[1;32mfor\u001b[0m \u001b[0mi\u001b[0m\u001b[1;33m,\u001b[0m \u001b[0mcc\u001b[0m \u001b[1;32min\u001b[0m \u001b[0menumerate\u001b[0m\u001b[1;33m(\u001b[0m\u001b[0mc\u001b[0m\u001b[1;33m)\u001b[0m\u001b[1;33m:\u001b[0m\u001b[1;33m\u001b[0m\u001b[1;33m\u001b[0m\u001b[0m\n\u001b[1;32m--> 294\u001b[1;33m         \u001b[0mresult\u001b[0m\u001b[1;33m[\u001b[0m\u001b[0mi\u001b[0m\u001b[1;33m]\u001b[0m \u001b[1;33m=\u001b[0m \u001b[0mto_rgba\u001b[0m\u001b[1;33m(\u001b[0m\u001b[0mcc\u001b[0m\u001b[1;33m,\u001b[0m \u001b[0malpha\u001b[0m\u001b[1;33m)\u001b[0m\u001b[1;33m\u001b[0m\u001b[1;33m\u001b[0m\u001b[0m\n\u001b[0m\u001b[0;32m    295\u001b[0m     \u001b[1;32mreturn\u001b[0m \u001b[0mresult\u001b[0m\u001b[1;33m\u001b[0m\u001b[1;33m\u001b[0m\u001b[0m\n",
      "\u001b[1;32mc:\\users\\chinmay\\appdata\\local\\programs\\python\\python37\\lib\\site-packages\\matplotlib\\colors.py\u001b[0m in \u001b[0;36mto_rgba\u001b[1;34m(c, alpha)\u001b[0m\n\u001b[0;32m    176\u001b[0m     \u001b[1;32mif\u001b[0m \u001b[0mrgba\u001b[0m \u001b[1;32mis\u001b[0m \u001b[1;32mNone\u001b[0m\u001b[1;33m:\u001b[0m  \u001b[1;31m# Suppress exception chaining of cache lookup failure.\u001b[0m\u001b[1;33m\u001b[0m\u001b[1;33m\u001b[0m\u001b[0m\n\u001b[1;32m--> 177\u001b[1;33m         \u001b[0mrgba\u001b[0m \u001b[1;33m=\u001b[0m \u001b[0m_to_rgba_no_colorcycle\u001b[0m\u001b[1;33m(\u001b[0m\u001b[0mc\u001b[0m\u001b[1;33m,\u001b[0m \u001b[0malpha\u001b[0m\u001b[1;33m)\u001b[0m\u001b[1;33m\u001b[0m\u001b[1;33m\u001b[0m\u001b[0m\n\u001b[0m\u001b[0;32m    178\u001b[0m         \u001b[1;32mtry\u001b[0m\u001b[1;33m:\u001b[0m\u001b[1;33m\u001b[0m\u001b[1;33m\u001b[0m\u001b[0m\n",
      "\u001b[1;32mc:\\users\\chinmay\\appdata\\local\\programs\\python\\python37\\lib\\site-packages\\matplotlib\\colors.py\u001b[0m in \u001b[0;36m_to_rgba_no_colorcycle\u001b[1;34m(c, alpha)\u001b[0m\n\u001b[0;32m    239\u001b[0m         \u001b[1;31m# Test dimensionality to reject single floats.\u001b[0m\u001b[1;33m\u001b[0m\u001b[1;33m\u001b[0m\u001b[1;33m\u001b[0m\u001b[0m\n\u001b[1;32m--> 240\u001b[1;33m         \u001b[1;32mraise\u001b[0m \u001b[0mValueError\u001b[0m\u001b[1;33m(\u001b[0m\u001b[1;34m\"Invalid RGBA argument: {!r}\"\u001b[0m\u001b[1;33m.\u001b[0m\u001b[0mformat\u001b[0m\u001b[1;33m(\u001b[0m\u001b[0morig_c\u001b[0m\u001b[1;33m)\u001b[0m\u001b[1;33m)\u001b[0m\u001b[1;33m\u001b[0m\u001b[1;33m\u001b[0m\u001b[0m\n\u001b[0m\u001b[0;32m    241\u001b[0m     \u001b[1;31m# Return a tuple to prevent the cached value from being modified.\u001b[0m\u001b[1;33m\u001b[0m\u001b[1;33m\u001b[0m\u001b[1;33m\u001b[0m\u001b[0m\n",
      "\u001b[1;31mValueError\u001b[0m: Invalid RGBA argument: 0.0",
      "\nDuring handling of the above exception, another exception occurred:\n",
      "\u001b[1;31mValueError\u001b[0m                                Traceback (most recent call last)",
      "\u001b[1;32m<ipython-input-63-d27e40ef238d>\u001b[0m in \u001b[0;36m<module>\u001b[1;34m\u001b[0m\n\u001b[0;32m     14\u001b[0m \u001b[0mfig\u001b[0m \u001b[1;33m=\u001b[0m \u001b[0mplt\u001b[0m\u001b[1;33m.\u001b[0m\u001b[0mfigure\u001b[0m\u001b[1;33m(\u001b[0m\u001b[1;33m)\u001b[0m\u001b[1;33m\u001b[0m\u001b[1;33m\u001b[0m\u001b[0m\n\u001b[0;32m     15\u001b[0m \u001b[0max\u001b[0m \u001b[1;33m=\u001b[0m \u001b[0mfig\u001b[0m\u001b[1;33m.\u001b[0m\u001b[0madd_subplot\u001b[0m\u001b[1;33m(\u001b[0m\u001b[1;36m111\u001b[0m\u001b[1;33m)\u001b[0m\u001b[1;33m\u001b[0m\u001b[1;33m\u001b[0m\u001b[0m\n\u001b[1;32m---> 16\u001b[1;33m \u001b[0mscatter\u001b[0m \u001b[1;33m=\u001b[0m \u001b[0max\u001b[0m\u001b[1;33m.\u001b[0m\u001b[0mscatter\u001b[0m\u001b[1;33m(\u001b[0m\u001b[0mx_result\u001b[0m\u001b[1;33m,\u001b[0m\u001b[0my\u001b[0m\u001b[1;33m,\u001b[0m\u001b[0mc\u001b[0m\u001b[1;33m=\u001b[0m\u001b[0mCluster\u001b[0m\u001b[1;33m,\u001b[0m\u001b[0ms\u001b[0m\u001b[1;33m=\u001b[0m\u001b[1;36m50\u001b[0m\u001b[1;33m)\u001b[0m\u001b[1;33m\u001b[0m\u001b[1;33m\u001b[0m\u001b[0m\n\u001b[0m\u001b[0;32m     17\u001b[0m \u001b[1;31m# for i,j in centers:\u001b[0m\u001b[1;33m\u001b[0m\u001b[1;33m\u001b[0m\u001b[1;33m\u001b[0m\u001b[0m\n\u001b[0;32m     18\u001b[0m \u001b[1;31m#     ax.scatter(i,j,s=50,c='red',marker='+')\u001b[0m\u001b[1;33m\u001b[0m\u001b[1;33m\u001b[0m\u001b[1;33m\u001b[0m\u001b[0m\n",
      "\u001b[1;32mc:\\users\\chinmay\\appdata\\local\\programs\\python\\python37\\lib\\site-packages\\matplotlib\\__init__.py\u001b[0m in \u001b[0;36minner\u001b[1;34m(ax, data, *args, **kwargs)\u001b[0m\n\u001b[0;32m   1597\u001b[0m     \u001b[1;32mdef\u001b[0m \u001b[0minner\u001b[0m\u001b[1;33m(\u001b[0m\u001b[0max\u001b[0m\u001b[1;33m,\u001b[0m \u001b[1;33m*\u001b[0m\u001b[0margs\u001b[0m\u001b[1;33m,\u001b[0m \u001b[0mdata\u001b[0m\u001b[1;33m=\u001b[0m\u001b[1;32mNone\u001b[0m\u001b[1;33m,\u001b[0m \u001b[1;33m**\u001b[0m\u001b[0mkwargs\u001b[0m\u001b[1;33m)\u001b[0m\u001b[1;33m:\u001b[0m\u001b[1;33m\u001b[0m\u001b[1;33m\u001b[0m\u001b[0m\n\u001b[0;32m   1598\u001b[0m         \u001b[1;32mif\u001b[0m \u001b[0mdata\u001b[0m \u001b[1;32mis\u001b[0m \u001b[1;32mNone\u001b[0m\u001b[1;33m:\u001b[0m\u001b[1;33m\u001b[0m\u001b[1;33m\u001b[0m\u001b[0m\n\u001b[1;32m-> 1599\u001b[1;33m             \u001b[1;32mreturn\u001b[0m \u001b[0mfunc\u001b[0m\u001b[1;33m(\u001b[0m\u001b[0max\u001b[0m\u001b[1;33m,\u001b[0m \u001b[1;33m*\u001b[0m\u001b[0mmap\u001b[0m\u001b[1;33m(\u001b[0m\u001b[0msanitize_sequence\u001b[0m\u001b[1;33m,\u001b[0m \u001b[0margs\u001b[0m\u001b[1;33m)\u001b[0m\u001b[1;33m,\u001b[0m \u001b[1;33m**\u001b[0m\u001b[0mkwargs\u001b[0m\u001b[1;33m)\u001b[0m\u001b[1;33m\u001b[0m\u001b[1;33m\u001b[0m\u001b[0m\n\u001b[0m\u001b[0;32m   1600\u001b[0m \u001b[1;33m\u001b[0m\u001b[0m\n\u001b[0;32m   1601\u001b[0m         \u001b[0mbound\u001b[0m \u001b[1;33m=\u001b[0m \u001b[0mnew_sig\u001b[0m\u001b[1;33m.\u001b[0m\u001b[0mbind\u001b[0m\u001b[1;33m(\u001b[0m\u001b[0max\u001b[0m\u001b[1;33m,\u001b[0m \u001b[1;33m*\u001b[0m\u001b[0margs\u001b[0m\u001b[1;33m,\u001b[0m \u001b[1;33m**\u001b[0m\u001b[0mkwargs\u001b[0m\u001b[1;33m)\u001b[0m\u001b[1;33m\u001b[0m\u001b[1;33m\u001b[0m\u001b[0m\n",
      "\u001b[1;32mc:\\users\\chinmay\\appdata\\local\\programs\\python\\python37\\lib\\site-packages\\matplotlib\\axes\\_axes.py\u001b[0m in \u001b[0;36mscatter\u001b[1;34m(self, x, y, s, c, marker, cmap, norm, vmin, vmax, alpha, linewidths, verts, edgecolors, plotnonfinite, **kwargs)\u001b[0m\n\u001b[0;32m   4451\u001b[0m             self._parse_scatter_color_args(\n\u001b[0;32m   4452\u001b[0m                 \u001b[0mc\u001b[0m\u001b[1;33m,\u001b[0m \u001b[0medgecolors\u001b[0m\u001b[1;33m,\u001b[0m \u001b[0mkwargs\u001b[0m\u001b[1;33m,\u001b[0m \u001b[0mxshape\u001b[0m\u001b[1;33m,\u001b[0m \u001b[0myshape\u001b[0m\u001b[1;33m,\u001b[0m\u001b[1;33m\u001b[0m\u001b[1;33m\u001b[0m\u001b[0m\n\u001b[1;32m-> 4453\u001b[1;33m                 get_next_color_func=self._get_patches_for_fill.get_next_color)\n\u001b[0m\u001b[0;32m   4454\u001b[0m \u001b[1;33m\u001b[0m\u001b[0m\n\u001b[0;32m   4455\u001b[0m         \u001b[1;32mif\u001b[0m \u001b[0mplotnonfinite\u001b[0m \u001b[1;32mand\u001b[0m \u001b[0mcolors\u001b[0m \u001b[1;32mis\u001b[0m \u001b[1;32mNone\u001b[0m\u001b[1;33m:\u001b[0m\u001b[1;33m\u001b[0m\u001b[1;33m\u001b[0m\u001b[0m\n",
      "\u001b[1;32mc:\\users\\chinmay\\appdata\\local\\programs\\python\\python37\\lib\\site-packages\\matplotlib\\axes\\_axes.py\u001b[0m in \u001b[0;36m_parse_scatter_color_args\u001b[1;34m(c, edgecolors, kwargs, xshape, yshape, get_next_color_func)\u001b[0m\n\u001b[0;32m   4295\u001b[0m                         \u001b[1;34m\"acceptable for use with 'x' with size {xs}, \"\u001b[0m\u001b[1;33m\u001b[0m\u001b[1;33m\u001b[0m\u001b[0m\n\u001b[0;32m   4296\u001b[0m                         \u001b[1;34m\"'y' with size {ys}.\"\u001b[0m\u001b[1;33m\u001b[0m\u001b[1;33m\u001b[0m\u001b[0m\n\u001b[1;32m-> 4297\u001b[1;33m                             \u001b[1;33m.\u001b[0m\u001b[0mformat\u001b[0m\u001b[1;33m(\u001b[0m\u001b[0mnc\u001b[0m\u001b[1;33m=\u001b[0m\u001b[0mn_elem\u001b[0m\u001b[1;33m,\u001b[0m \u001b[0mxs\u001b[0m\u001b[1;33m=\u001b[0m\u001b[0mxsize\u001b[0m\u001b[1;33m,\u001b[0m \u001b[0mys\u001b[0m\u001b[1;33m=\u001b[0m\u001b[0mysize\u001b[0m\u001b[1;33m)\u001b[0m\u001b[1;33m\u001b[0m\u001b[1;33m\u001b[0m\u001b[0m\n\u001b[0m\u001b[0;32m   4298\u001b[0m                     )\n\u001b[0;32m   4299\u001b[0m                 \u001b[1;32melse\u001b[0m\u001b[1;33m:\u001b[0m\u001b[1;33m\u001b[0m\u001b[1;33m\u001b[0m\u001b[0m\n",
      "\u001b[1;31mValueError\u001b[0m: 'c' argument has 32 elements, which is not acceptable for use with 'x' with size 6528, 'y' with size 6528."
     ]
    },
    {
     "data": {
      "image/png": "[encoded data removed]",
      "text/plain": [
       "<Figure size 432x288 with 1 Axes>"
      ]
     },
     "metadata": {
      "needs_background": "light"
     },
     "output_type": "display_data"
    }
   ],
   "source": [
    "import numpy as np\n",
    "import matplotlib.pyplot as plt\n",
    "\n",
    "x = np.array( [[ i for i in range(204)]]).T\n",
    "x_result = np.array( [[ i for i in range(204)]]).T\n",
    "for i in range(31):\n",
    "    x_result = np.concatenate((x_result,x),axis = 1)\n",
    "    \n",
    "print(x_result.shape)    \n",
    "y = X_train.T[0]\n",
    "Cluster = c_assign  # Labels of cluster 0 to 3\n",
    "# centers = np.random.randn(4, 2) \n",
    "\n",
    "fig = plt.figure()\n",
    "ax = fig.add_subplot(111)\n",
    "scatter = ax.scatter(x_result,y,c=Cluster,s=50)\n",
    "# for i,j in centers:\n",
    "#     ax.scatter(i,j,s=50,c='red',marker='+')\n",
    "ax.set_xlabel('x')\n",
    "ax.set_ylabel('y')\n",
    "plt.colorbar(scatter)\n"
   ]
  },
  {
   "cell_type": "code",
   "execution_count": 101,
   "metadata": {},
   "outputs": [
    {
     "data": {
      "text/html": [
       "<div>\n",
       "<style scoped>\n",
       "    .dataframe tbody tr th:only-of-type {\n",
       "        vertical-align: middle;\n",
       "    }\n",
       "\n",
       "    .dataframe tbody tr th {\n",
       "        vertical-align: top;\n",
       "    }\n",
       "\n",
       "    .dataframe thead th {\n",
       "        text-align: right;\n",
       "    }\n",
       "</style>\n",
       "<table border=\"1\" class=\"dataframe\">\n",
       "  <thead>\n",
       "    <tr style=\"text-align: right;\">\n",
       "      <th></th>\n",
       "      <th>location</th>\n",
       "      <th>latitude</th>\n",
       "      <th>longitude</th>\n",
       "    </tr>\n",
       "  </thead>\n",
       "  <tbody>\n",
       "    <tr>\n",
       "      <th>0</th>\n",
       "      <td>Sonia Vihar, Delhi - DPCC</td>\n",
       "      <td>28.710508</td>\n",
       "      <td>77.249485</td>\n",
       "    </tr>\n",
       "    <tr>\n",
       "      <th>1</th>\n",
       "      <td>Vivek Vihar, Delhi - DPCC</td>\n",
       "      <td>28.672342</td>\n",
       "      <td>77.315260</td>\n",
       "    </tr>\n",
       "    <tr>\n",
       "      <th>2</th>\n",
       "      <td>Okhla Phase-2, Delhi - DPCC</td>\n",
       "      <td>28.530785</td>\n",
       "      <td>77.271255</td>\n",
       "    </tr>\n",
       "    <tr>\n",
       "      <th>3</th>\n",
       "      <td>NSIT Dwarka, Delhi - CPCB</td>\n",
       "      <td>28.609090</td>\n",
       "      <td>77.032541</td>\n",
       "    </tr>\n",
       "    <tr>\n",
       "      <th>4</th>\n",
       "      <td>Jawaharlal Nehru Stadium, Delhi - DPCC</td>\n",
       "      <td>28.580280</td>\n",
       "      <td>77.233829</td>\n",
       "    </tr>\n",
       "    <tr>\n",
       "      <th>5</th>\n",
       "      <td>Ashok Vihar, Delhi - DPCC</td>\n",
       "      <td>28.695381</td>\n",
       "      <td>77.181665</td>\n",
       "    </tr>\n",
       "    <tr>\n",
       "      <th>6</th>\n",
       "      <td>Anand Vihar, Delhi - DPCC</td>\n",
       "      <td>28.646835</td>\n",
       "      <td>77.316032</td>\n",
       "    </tr>\n",
       "    <tr>\n",
       "      <th>7</th>\n",
       "      <td>Mundka, Delhi - DPCC</td>\n",
       "      <td>28.684678</td>\n",
       "      <td>77.076574</td>\n",
       "    </tr>\n",
       "    <tr>\n",
       "      <th>8</th>\n",
       "      <td>Narela, Delhi - DPCC</td>\n",
       "      <td>28.822836</td>\n",
       "      <td>77.101981</td>\n",
       "    </tr>\n",
       "    <tr>\n",
       "      <th>9</th>\n",
       "      <td>Sri Aurobindo Marg, Delhi - DPCC</td>\n",
       "      <td>28.531346</td>\n",
       "      <td>77.190156</td>\n",
       "    </tr>\n",
       "    <tr>\n",
       "      <th>10</th>\n",
       "      <td>Patparganj, Delhi - DPCC</td>\n",
       "      <td>28.623748</td>\n",
       "      <td>77.287205</td>\n",
       "    </tr>\n",
       "    <tr>\n",
       "      <th>11</th>\n",
       "      <td>Alipur, Delhi - DPCC</td>\n",
       "      <td>28.815329</td>\n",
       "      <td>77.153010</td>\n",
       "    </tr>\n",
       "    <tr>\n",
       "      <th>12</th>\n",
       "      <td>Mandir Marg, Delhi - DPCC</td>\n",
       "      <td>28.636429</td>\n",
       "      <td>77.201067</td>\n",
       "    </tr>\n",
       "    <tr>\n",
       "      <th>13</th>\n",
       "      <td>Nehru Nagar, Delhi - DPCC</td>\n",
       "      <td>28.567890</td>\n",
       "      <td>77.250515</td>\n",
       "    </tr>\n",
       "    <tr>\n",
       "      <th>14</th>\n",
       "      <td>Dr. Karni Singh Shooting Range, Delhi - DPCC</td>\n",
       "      <td>28.498571</td>\n",
       "      <td>77.264840</td>\n",
       "    </tr>\n",
       "    <tr>\n",
       "      <th>15</th>\n",
       "      <td>Bawana, Delhi - DPCC</td>\n",
       "      <td>28.776200</td>\n",
       "      <td>77.051074</td>\n",
       "    </tr>\n",
       "    <tr>\n",
       "      <th>16</th>\n",
       "      <td>Pusa, Delhi - IMD</td>\n",
       "      <td>28.639645</td>\n",
       "      <td>77.146263</td>\n",
       "    </tr>\n",
       "    <tr>\n",
       "      <th>17</th>\n",
       "      <td>CRRI Mathura Road, Delhi - IMD</td>\n",
       "      <td>28.551201</td>\n",
       "      <td>77.273574</td>\n",
       "    </tr>\n",
       "    <tr>\n",
       "      <th>18</th>\n",
       "      <td>North Campus, DU, Delhi - IMD</td>\n",
       "      <td>28.657381</td>\n",
       "      <td>77.158545</td>\n",
       "    </tr>\n",
       "    <tr>\n",
       "      <th>19</th>\n",
       "      <td>IHBAS, Dilshad Garden, Delhi - CPCB</td>\n",
       "      <td>28.681174</td>\n",
       "      <td>77.302523</td>\n",
       "    </tr>\n",
       "    <tr>\n",
       "      <th>20</th>\n",
       "      <td>Major Dhyan Chand National Stadium, Delhi - DPCC</td>\n",
       "      <td>28.611281</td>\n",
       "      <td>77.237738</td>\n",
       "    </tr>\n",
       "    <tr>\n",
       "      <th>21</th>\n",
       "      <td>Rohini, Delhi - DPCC</td>\n",
       "      <td>28.732528</td>\n",
       "      <td>77.119920</td>\n",
       "    </tr>\n",
       "    <tr>\n",
       "      <th>22</th>\n",
       "      <td>Jahangirpuri, Delhi - DPCC</td>\n",
       "      <td>28.732820</td>\n",
       "      <td>77.170633</td>\n",
       "    </tr>\n",
       "    <tr>\n",
       "      <th>23</th>\n",
       "      <td>Shadipur, Delhi - CPCB</td>\n",
       "      <td>28.651478</td>\n",
       "      <td>77.147311</td>\n",
       "    </tr>\n",
       "    <tr>\n",
       "      <th>24</th>\n",
       "      <td>Lodhi Road, Delhi - IMD</td>\n",
       "      <td>28.591825</td>\n",
       "      <td>77.227307</td>\n",
       "    </tr>\n",
       "    <tr>\n",
       "      <th>25</th>\n",
       "      <td>US Diplomatic Post: New Delhi</td>\n",
       "      <td>28.635760</td>\n",
       "      <td>77.224450</td>\n",
       "    </tr>\n",
       "    <tr>\n",
       "      <th>26</th>\n",
       "      <td>R K Puram, Delhi - DPCC</td>\n",
       "      <td>28.674045</td>\n",
       "      <td>77.131023</td>\n",
       "    </tr>\n",
       "    <tr>\n",
       "      <th>27</th>\n",
       "      <td>Wazirpur, Delhi - DPCC</td>\n",
       "      <td>28.699793</td>\n",
       "      <td>77.165453</td>\n",
       "    </tr>\n",
       "    <tr>\n",
       "      <th>28</th>\n",
       "      <td>Punjabi Bagh, Delhi - DPCC</td>\n",
       "      <td>28.563262</td>\n",
       "      <td>77.186937</td>\n",
       "    </tr>\n",
       "    <tr>\n",
       "      <th>29</th>\n",
       "      <td>DTU, Delhi - CPCB</td>\n",
       "      <td>28.750050</td>\n",
       "      <td>77.111261</td>\n",
       "    </tr>\n",
       "    <tr>\n",
       "      <th>30</th>\n",
       "      <td>Sirifort, Delhi - CPCB</td>\n",
       "      <td>28.550425</td>\n",
       "      <td>77.215938</td>\n",
       "    </tr>\n",
       "    <tr>\n",
       "      <th>31</th>\n",
       "      <td>Dwarka-Sector 8, Delhi - DPCC</td>\n",
       "      <td>28.571027</td>\n",
       "      <td>77.071901</td>\n",
       "    </tr>\n",
       "    <tr>\n",
       "      <th>32</th>\n",
       "      <td>Najafgarh, Delhi - DPCC</td>\n",
       "      <td>28.570173</td>\n",
       "      <td>76.933762</td>\n",
       "    </tr>\n",
       "    <tr>\n",
       "      <th>33</th>\n",
       "      <td>ITO, Delhi - CPCB</td>\n",
       "      <td>28.631695</td>\n",
       "      <td>77.249439</td>\n",
       "    </tr>\n",
       "    <tr>\n",
       "      <th>34</th>\n",
       "      <td>Aya Nagar, Delhi - IMD</td>\n",
       "      <td>28.470691</td>\n",
       "      <td>77.109936</td>\n",
       "    </tr>\n",
       "    <tr>\n",
       "      <th>35</th>\n",
       "      <td>IGI Airport (T3), Delhi - IMD</td>\n",
       "      <td>28.562776</td>\n",
       "      <td>77.118005</td>\n",
       "    </tr>\n",
       "    <tr>\n",
       "      <th>36</th>\n",
       "      <td>Burari Crossing, Delhi - IMD</td>\n",
       "      <td>28.725650</td>\n",
       "      <td>77.201157</td>\n",
       "    </tr>\n",
       "  </tbody>\n",
       "</table>\n",
       "</div>"
      ],
      "text/plain": [
       "                                            location   latitude  longitude\n",
       "0                          Sonia Vihar, Delhi - DPCC  28.710508  77.249485\n",
       "1                          Vivek Vihar, Delhi - DPCC  28.672342  77.315260\n",
       "2                        Okhla Phase-2, Delhi - DPCC  28.530785  77.271255\n",
       "3                          NSIT Dwarka, Delhi - CPCB  28.609090  77.032541\n",
       "4             Jawaharlal Nehru Stadium, Delhi - DPCC  28.580280  77.233829\n",
       "5                          Ashok Vihar, Delhi - DPCC  28.695381  77.181665\n",
       "6                          Anand Vihar, Delhi - DPCC  28.646835  77.316032\n",
       "7                               Mundka, Delhi - DPCC  28.684678  77.076574\n",
       "8                               Narela, Delhi - DPCC  28.822836  77.101981\n",
       "9                   Sri Aurobindo Marg, Delhi - DPCC  28.531346  77.190156\n",
       "10                          Patparganj, Delhi - DPCC  28.623748  77.287205\n",
       "11                              Alipur, Delhi - DPCC  28.815329  77.153010\n",
       "12                         Mandir Marg, Delhi - DPCC  28.636429  77.201067\n",
       "13                         Nehru Nagar, Delhi - DPCC  28.567890  77.250515\n",
       "14      Dr. Karni Singh Shooting Range, Delhi - DPCC  28.498571  77.264840\n",
       "15                              Bawana, Delhi - DPCC  28.776200  77.051074\n",
       "16                                 Pusa, Delhi - IMD  28.639645  77.146263\n",
       "17                    CRRI Mathura Road, Delhi - IMD  28.551201  77.273574\n",
       "18                     North Campus, DU, Delhi - IMD  28.657381  77.158545\n",
       "19               IHBAS, Dilshad Garden, Delhi - CPCB  28.681174  77.302523\n",
       "20  Major Dhyan Chand National Stadium, Delhi - DPCC  28.611281  77.237738\n",
       "21                              Rohini, Delhi - DPCC  28.732528  77.119920\n",
       "22                        Jahangirpuri, Delhi - DPCC  28.732820  77.170633\n",
       "23                            Shadipur, Delhi - CPCB  28.651478  77.147311\n",
       "24                           Lodhi Road, Delhi - IMD  28.591825  77.227307\n",
       "25                     US Diplomatic Post: New Delhi  28.635760  77.224450\n",
       "26                           R K Puram, Delhi - DPCC  28.674045  77.131023\n",
       "27                            Wazirpur, Delhi - DPCC  28.699793  77.165453\n",
       "28                        Punjabi Bagh, Delhi - DPCC  28.563262  77.186937\n",
       "29                                 DTU, Delhi - CPCB  28.750050  77.111261\n",
       "30                            Sirifort, Delhi - CPCB  28.550425  77.215938\n",
       "31                    Dwarka-Sector 8, Delhi - DPCC   28.571027  77.071901\n",
       "32                           Najafgarh, Delhi - DPCC  28.570173  76.933762\n",
       "33                                 ITO, Delhi - CPCB  28.631695  77.249439\n",
       "34                            Aya Nagar, Delhi - IMD  28.470691  77.109936\n",
       "35                     IGI Airport (T3), Delhi - IMD  28.562776  77.118005\n",
       "36                      Burari Crossing, Delhi - IMD  28.725650  77.201157"
      ]
     },
     "execution_count": 101,
     "metadata": {},
     "output_type": "execute_result"
    }
   ],
   "source": [
    "#---------------------------------------------------------------------------------\n",
    "data_dir = '../../Data/'\n",
    "import pandas as pd\n",
    "df=pd.read_csv(data_dir+'location_name_lat_lon.csv', sep=',')\n",
    "df"
   ]
  },
  {
   "cell_type": "code",
   "execution_count": 82,
   "metadata": {},
   "outputs": [
    {
     "name": "stdout",
     "output_type": "stream",
     "text": [
      "(32, 409)\n",
      "['Sonia Vihar, Delhi - DPCC' 'Vivek Vihar, Delhi - DPCC'\n",
      " 'Okhla Phase-2, Delhi - DPCC' 'NSIT Dwarka, Delhi - CPCB'\n",
      " 'Jawaharlal Nehru Stadium, Delhi - DPCC' 'Ashok Vihar, Delhi - DPCC'\n",
      " 'Mundka, Delhi - DPCC' 'Narela, Delhi - DPCC'\n",
      " 'Sri Aurobindo Marg, Delhi - DPCC' 'Patparganj, Delhi - DPCC'\n",
      " 'Alipur, Delhi - DPCC' 'Mandir Marg, Delhi - DPCC'\n",
      " 'Nehru Nagar, Delhi - DPCC'\n",
      " 'Dr. Karni Singh Shooting Range, Delhi - DPCC' 'Bawana, Delhi - DPCC'\n",
      " 'CRRI Mathura Road, Delhi - IMD' 'IHBAS, Dilshad Garden, Delhi - CPCB'\n",
      " 'Major Dhyan Chand National Stadium, Delhi - DPCC' 'Rohini, Delhi - DPCC'\n",
      " 'Jahangirpuri, Delhi - DPCC' 'Shadipur, Delhi - CPCB'\n",
      " 'Lodhi Road, Delhi - IMD' 'US Diplomatic Post: New Delhi'\n",
      " 'R K Puram, Delhi - DPCC' 'Wazirpur, Delhi - DPCC'\n",
      " 'Punjabi Bagh, Delhi - DPCC' 'DTU, Delhi - CPCB'\n",
      " 'Dwarka-Sector 8, Delhi - DPCC ' 'Najafgarh, Delhi - DPCC'\n",
      " 'ITO, Delhi - CPCB' 'Aya Nagar, Delhi - IMD'\n",
      " 'IGI Airport (T3), Delhi - IMD']\n"
     ]
    }
   ],
   "source": [
    "df_input = pd.read_csv('dataset.csv',header=None)\n",
    "np_input = df_input.values\n",
    "print(np_input.shape)\n",
    "print(np_input[:,0])"
   ]
  },
  {
   "cell_type": "code",
   "execution_count": 104,
   "metadata": {},
   "outputs": [
    {
     "name": "stdout",
     "output_type": "stream",
     "text": [
      "Sonia Vihar, Delhi - DPCC 28.710508\n",
      "Vivek Vihar, Delhi - DPCC 28.672341999999997\n",
      "Okhla Phase-2, Delhi - DPCC 28.530784999999998\n",
      "NSIT Dwarka, Delhi - CPCB 28.609090000000002\n",
      "Jawaharlal Nehru Stadium, Delhi - DPCC 28.58028\n",
      "Ashok Vihar, Delhi - DPCC 28.695381\n",
      "Mundka, Delhi - DPCC 28.684678\n",
      "Narela, Delhi - DPCC 28.822836\n",
      "Sri Aurobindo Marg, Delhi - DPCC 28.531346000000003\n",
      "Patparganj, Delhi - DPCC 28.623748\n",
      "Alipur, Delhi - DPCC 28.815329\n",
      "Mandir Marg, Delhi - DPCC 28.636428999999996\n",
      "Nehru Nagar, Delhi - DPCC 28.567890000000002\n",
      "Dr. Karni Singh Shooting Range, Delhi - DPCC 28.498571000000002\n",
      "Bawana, Delhi - DPCC 28.7762\n",
      "CRRI Mathura Road, Delhi - IMD 28.5512005\n",
      "IHBAS, Dilshad Garden, Delhi - CPCB 28.681173600000005\n",
      "Major Dhyan Chand National Stadium, Delhi - DPCC 28.611280999999998\n",
      "Rohini, Delhi - DPCC 28.732528000000002\n",
      "Jahangirpuri, Delhi - DPCC 28.73282\n",
      "Shadipur, Delhi - CPCB 28.651478100000002\n",
      "Lodhi Road, Delhi - IMD 28.5918245\n",
      "US Diplomatic Post: New Delhi 28.635759999999998\n",
      "R K Puram, Delhi - DPCC 28.674045\n",
      "Wazirpur, Delhi - DPCC 28.699793\n",
      "Punjabi Bagh, Delhi - DPCC 28.563261999999998\n",
      "DTU, Delhi - CPCB 28.7500499\n",
      "Dwarka-Sector 8, Delhi - DPCC  28.5710274\n",
      "Najafgarh, Delhi - DPCC 28.570172999999997\n",
      "ITO, Delhi - CPCB 28.631694500000002\n",
      "Aya Nagar, Delhi - IMD 28.4706914\n",
      "IGI Airport (T3), Delhi - IMD 28.562776300000003\n",
      "32\n"
     ]
    }
   ],
   "source": [
    "clusters = []\n",
    "lat = []\n",
    "long = []\n",
    "location = []\n",
    "for i in range(np_input.shape[0]):\n",
    "    loc = np_input[i,0]\n",
    "    for j in range(df.shape[0]):\n",
    "        if(df['location'][j]==loc):\n",
    "            location.append(loc)\n",
    "            lat.append( df['latitude'][j])\n",
    "            long.append(df['longitude'][j])\n",
    "            print(loc,df['latitude'][j])\n",
    "    clusters.append(c_assign[i])\n",
    "    \n",
    "#     df['Cluster'][loc] = c_assign[i]\n",
    "print(len(clusters))\n",
    "# print(long)\n",
    "    "
   ]
  },
  {
   "cell_type": "code",
   "execution_count": 91,
   "metadata": {},
   "outputs": [],
   "source": [
    "df_input['Cluster'] = clusters"
   ]
  },
  {
   "cell_type": "code",
   "execution_count": 93,
   "metadata": {},
   "outputs": [
    {
     "data": {
      "text/plain": [
       "(32, 410)"
      ]
     },
     "execution_count": 93,
     "metadata": {},
     "output_type": "execute_result"
    }
   ],
   "source": [
    "df_input.shape"
   ]
  },
  {
   "cell_type": "code",
   "execution_count": 107,
   "metadata": {},
   "outputs": [],
   "source": [
    "new_df = pd.DataFrame() "
   ]
  },
  {
   "cell_type": "code",
   "execution_count": 110,
   "metadata": {},
   "outputs": [],
   "source": [
    "new_df[\"location\"] = location\n",
    "new_df[\"latitude\"] = lat\n",
    "new_df[\"longitude\"] = long\n",
    "new_df[\"cluster\"] = clusters"
   ]
  },
  {
   "cell_type": "code",
   "execution_count": 111,
   "metadata": {},
   "outputs": [
    {
     "name": "stdout",
     "output_type": "stream",
     "text": [
      "                                            location   latitude  longitude  \\\n",
      "0                          Sonia Vihar, Delhi - DPCC  28.710508  77.249485   \n",
      "1                          Vivek Vihar, Delhi - DPCC  28.672342  77.315260   \n",
      "2                        Okhla Phase-2, Delhi - DPCC  28.530785  77.271255   \n",
      "3                          NSIT Dwarka, Delhi - CPCB  28.609090  77.032541   \n",
      "4             Jawaharlal Nehru Stadium, Delhi - DPCC  28.580280  77.233829   \n",
      "5                          Ashok Vihar, Delhi - DPCC  28.695381  77.181665   \n",
      "6                               Mundka, Delhi - DPCC  28.684678  77.076574   \n",
      "7                               Narela, Delhi - DPCC  28.822836  77.101981   \n",
      "8                   Sri Aurobindo Marg, Delhi - DPCC  28.531346  77.190156   \n",
      "9                           Patparganj, Delhi - DPCC  28.623748  77.287205   \n",
      "10                              Alipur, Delhi - DPCC  28.815329  77.153010   \n",
      "11                         Mandir Marg, Delhi - DPCC  28.636429  77.201067   \n",
      "12                         Nehru Nagar, Delhi - DPCC  28.567890  77.250515   \n",
      "13      Dr. Karni Singh Shooting Range, Delhi - DPCC  28.498571  77.264840   \n",
      "14                              Bawana, Delhi - DPCC  28.776200  77.051074   \n",
      "15                    CRRI Mathura Road, Delhi - IMD  28.551201  77.273574   \n",
      "16               IHBAS, Dilshad Garden, Delhi - CPCB  28.681174  77.302523   \n",
      "17  Major Dhyan Chand National Stadium, Delhi - DPCC  28.611281  77.237738   \n",
      "18                              Rohini, Delhi - DPCC  28.732528  77.119920   \n",
      "19                        Jahangirpuri, Delhi - DPCC  28.732820  77.170633   \n",
      "20                            Shadipur, Delhi - CPCB  28.651478  77.147311   \n",
      "21                           Lodhi Road, Delhi - IMD  28.591825  77.227307   \n",
      "22                     US Diplomatic Post: New Delhi  28.635760  77.224450   \n",
      "23                           R K Puram, Delhi - DPCC  28.674045  77.131023   \n",
      "24                            Wazirpur, Delhi - DPCC  28.699793  77.165453   \n",
      "25                        Punjabi Bagh, Delhi - DPCC  28.563262  77.186937   \n",
      "26                                 DTU, Delhi - CPCB  28.750050  77.111261   \n",
      "27                    Dwarka-Sector 8, Delhi - DPCC   28.571027  77.071901   \n",
      "28                           Najafgarh, Delhi - DPCC  28.570173  76.933762   \n",
      "29                                 ITO, Delhi - CPCB  28.631695  77.249439   \n",
      "30                            Aya Nagar, Delhi - IMD  28.470691  77.109936   \n",
      "31                     IGI Airport (T3), Delhi - IMD  28.562776  77.118005   \n",
      "\n",
      "    cluster  \n",
      "0       0.0  \n",
      "1       5.0  \n",
      "2       5.0  \n",
      "3       0.0  \n",
      "4       0.0  \n",
      "5       5.0  \n",
      "6       3.0  \n",
      "7       0.0  \n",
      "8       0.0  \n",
      "9       0.0  \n",
      "10      0.0  \n",
      "11      0.0  \n",
      "12      5.0  \n",
      "13      0.0  \n",
      "14      3.0  \n",
      "15      3.0  \n",
      "16      0.0  \n",
      "17      0.0  \n",
      "18      1.0  \n",
      "19      5.0  \n",
      "20      3.0  \n",
      "21      0.0  \n",
      "22      4.0  \n",
      "23      0.0  \n",
      "24      5.0  \n",
      "25      3.0  \n",
      "26      3.0  \n",
      "27      0.0  \n",
      "28      0.0  \n",
      "29      2.0  \n",
      "30      0.0  \n",
      "31      0.0  \n"
     ]
    }
   ],
   "source": [
    "print(new_df)"
   ]
  },
  {
   "cell_type": "code",
   "execution_count": 112,
   "metadata": {},
   "outputs": [],
   "source": [
    "new_df.to_csv(\"locations_with_cluster_assignments_6Ckusters.csv\")"
   ]
  },
  {
   "cell_type": "code",
   "execution_count": null,
   "metadata": {},
   "outputs": [],
   "source": []
  }
 ],
 "metadata": {
  "kernelspec": {
   "display_name": "Python 3",
   "language": "python",
   "name": "python3"
  },
  "language_info": {
   "codemirror_mode": {
    "name": "ipython",
    "version": 3
   },
   "file_extension": ".py",
   "mimetype": "text/x-python",
   "name": "python",
   "nbconvert_exporter": "python",
   "pygments_lexer": "ipython3",
   "version": "3.7.6"
  }
 },
 "nbformat": 4,
 "nbformat_minor": 4
}
