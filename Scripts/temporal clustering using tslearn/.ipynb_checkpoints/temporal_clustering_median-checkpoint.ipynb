{
 "cells": [
  {
   "cell_type": "code",
   "execution_count": 1,
   "metadata": {},
   "outputs": [],
   "source": [
    "import tslearn\n",
    "import numpy as np\n",
    "import pandas as pd"
   ]
  },
  {
   "cell_type": "code",
   "execution_count": 4,
   "metadata": {},
   "outputs": [
    {
     "name": "stdout",
     "output_type": "stream",
     "text": [
      "(32, 205)\n"
     ]
    }
   ],
   "source": [
    "df_input = pd.read_csv('dataset_median.csv',header=None)\n",
    "np_input = df_input.values\n",
    "print(np_input.shape)"
   ]
  },
  {
   "cell_type": "code",
   "execution_count": 10,
   "metadata": {},
   "outputs": [
    {
     "name": "stdout",
     "output_type": "stream",
     "text": [
      "(32, 204)\n"
     ]
    }
   ],
   "source": [
    "X_train = np_input[:,1:]\n",
    "print(X_train.shape)"
   ]
  },
  {
   "cell_type": "code",
   "execution_count": 14,
   "metadata": {},
   "outputs": [
    {
     "name": "stderr",
     "output_type": "stream",
     "text": [
      "c:\\users\\chinmay\\appdata\\local\\programs\\python\\python37\\lib\\site-packages\\tslearn\\utils.py:91: UserWarning: 2-Dimensional data passed. Assuming these are 32 1-dimensional timeseries\n",
      "  '{} 1-dimensional timeseries'.format(X.shape[0]))\n"
     ]
    },
    {
     "name": "stdout",
     "output_type": "stream",
     "text": [
      "159116.77263644198\n",
      "32 ----------------------------------------\n"
     ]
    },
    {
     "name": "stderr",
     "output_type": "stream",
     "text": [
      "c:\\users\\chinmay\\appdata\\local\\programs\\python\\python37\\lib\\site-packages\\tslearn\\utils.py:91: UserWarning: 2-Dimensional data passed. Assuming these are 32 1-dimensional timeseries\n",
      "  '{} 1-dimensional timeseries'.format(X.shape[0]))\n"
     ]
    },
    {
     "name": "stdout",
     "output_type": "stream",
     "text": [
      "126412.57991261309\n",
      "18 14 ----------------------------------------\n"
     ]
    },
    {
     "name": "stderr",
     "output_type": "stream",
     "text": [
      "c:\\users\\chinmay\\appdata\\local\\programs\\python\\python37\\lib\\site-packages\\tslearn\\utils.py:91: UserWarning: 2-Dimensional data passed. Assuming these are 32 1-dimensional timeseries\n",
      "  '{} 1-dimensional timeseries'.format(X.shape[0]))\n"
     ]
    },
    {
     "name": "stdout",
     "output_type": "stream",
     "text": [
      "107657.19097589182\n",
      "18 6 8 ----------------------------------------\n"
     ]
    },
    {
     "name": "stderr",
     "output_type": "stream",
     "text": [
      "c:\\users\\chinmay\\appdata\\local\\programs\\python\\python37\\lib\\site-packages\\tslearn\\utils.py:91: UserWarning: 2-Dimensional data passed. Assuming these are 32 1-dimensional timeseries\n",
      "  '{} 1-dimensional timeseries'.format(X.shape[0]))\n"
     ]
    },
    {
     "name": "stdout",
     "output_type": "stream",
     "text": [
      "93862.82247716188\n",
      "20 6 5 1 ----------------------------------------\n"
     ]
    },
    {
     "name": "stderr",
     "output_type": "stream",
     "text": [
      "c:\\users\\chinmay\\appdata\\local\\programs\\python\\python37\\lib\\site-packages\\tslearn\\utils.py:91: UserWarning: 2-Dimensional data passed. Assuming these are 32 1-dimensional timeseries\n",
      "  '{} 1-dimensional timeseries'.format(X.shape[0]))\n"
     ]
    },
    {
     "name": "stdout",
     "output_type": "stream",
     "text": [
      "85447.40222284975\n",
      "13 1 6 7 5 ----------------------------------------\n"
     ]
    },
    {
     "name": "stderr",
     "output_type": "stream",
     "text": [
      "c:\\users\\chinmay\\appdata\\local\\programs\\python\\python37\\lib\\site-packages\\tslearn\\utils.py:91: UserWarning: 2-Dimensional data passed. Assuming these are 32 1-dimensional timeseries\n",
      "  '{} 1-dimensional timeseries'.format(X.shape[0]))\n"
     ]
    },
    {
     "name": "stdout",
     "output_type": "stream",
     "text": [
      "80235.9264006697\n",
      "3 5 4 1 5 14 ----------------------------------------\n"
     ]
    },
    {
     "name": "stderr",
     "output_type": "stream",
     "text": [
      "c:\\users\\chinmay\\appdata\\local\\programs\\python\\python37\\lib\\site-packages\\tslearn\\utils.py:91: UserWarning: 2-Dimensional data passed. Assuming these are 32 1-dimensional timeseries\n",
      "  '{} 1-dimensional timeseries'.format(X.shape[0]))\n"
     ]
    },
    {
     "name": "stdout",
     "output_type": "stream",
     "text": [
      "69211.6296342503\n",
      "5 5 1 1 14 5 1 ----------------------------------------\n"
     ]
    },
    {
     "name": "stderr",
     "output_type": "stream",
     "text": [
      "c:\\users\\chinmay\\appdata\\local\\programs\\python\\python37\\lib\\site-packages\\tslearn\\utils.py:91: UserWarning: 2-Dimensional data passed. Assuming these are 32 1-dimensional timeseries\n",
      "  '{} 1-dimensional timeseries'.format(X.shape[0]))\n"
     ]
    },
    {
     "name": "stdout",
     "output_type": "stream",
     "text": [
      "57961.269548722914\n",
      "8 2 1 1 1 9 7 3 ----------------------------------------\n"
     ]
    },
    {
     "name": "stderr",
     "output_type": "stream",
     "text": [
      "c:\\users\\chinmay\\appdata\\local\\programs\\python\\python37\\lib\\site-packages\\tslearn\\utils.py:91: UserWarning: 2-Dimensional data passed. Assuming these are 32 1-dimensional timeseries\n",
      "  '{} 1-dimensional timeseries'.format(X.shape[0]))\n"
     ]
    },
    {
     "name": "stdout",
     "output_type": "stream",
     "text": [
      "55158.249239464785\n",
      "1 2 12 7 1 4 1 1 3 ----------------------------------------\n"
     ]
    }
   ],
   "source": [
    "from scipy.spatial.distance import cdist \n",
    "from tslearn.clustering import TimeSeriesKMeans\n",
    "distortions = [] \n",
    "inertias = [] \n",
    "mapping1 = {}   # Used for distortion calculation, didnt use\n",
    "mapping2 = {} \n",
    "K = range(1,10) \n",
    "  \n",
    "for k in K: \n",
    "    #Building and fitting the model \n",
    "#     kmeanModel = KMeans(n_clusters=k).fit(X) \n",
    "    km = TimeSeriesKMeans(n_clusters=k, metric=\"dtw\",max_iter = 900,tol = 1e-08)\n",
    "    km.fit(X_train)     \n",
    "      \n",
    "    inertias.append(km.inertia_) \n",
    "    predictions = km.predict(X_train)\n",
    "  \n",
    "    print(km.inertia_)\n",
    "    mapping2[k] = km.inertia_ \n",
    "    for c in range(k):\n",
    "        c_0 = np.argwhere(predictions==c)\n",
    "        print(c_0.shape[0],end=' ')\n",
    "    print('----------------------------------------')"
   ]
  },
  {
   "cell_type": "code",
   "execution_count": 15,
   "metadata": {},
   "outputs": [
    {
     "data": {
      "image/png": "[encoded data removed]",
      "text/plain": [
       "<Figure size 432x288 with 1 Axes>"
      ]
     },
     "metadata": {
      "needs_background": "light"
     },
     "output_type": "display_data"
    }
   ],
   "source": [
    "import matplotlib.pyplot as plt \n",
    "plt.plot(K, inertias, 'bx-') \n",
    "plt.xlabel('Values of K') \n",
    "plt.ylabel('Inertia') \n",
    "plt.title('The Elbow Method using Inertia') \n",
    "plt.show() "
   ]
  },
  {
   "cell_type": "code",
   "execution_count": 18,
   "metadata": {},
   "outputs": [
    {
     "data": {
      "text/plain": [
       "TimeSeriesKMeans(dtw_inertia=False, init='k-means++', max_iter=900,\n",
       "                 max_iter_barycenter=100, metric='dtw', metric_params=None,\n",
       "                 n_clusters=3, n_init=1, n_jobs=None, random_state=None,\n",
       "                 tol=1e-08, verbose=0)"
      ]
     },
     "execution_count": 18,
     "metadata": {},
     "output_type": "execute_result"
    }
   ],
   "source": [
    "from tslearn.clustering import TimeSeriesKMeans\n",
    "km = TimeSeriesKMeans(n_clusters=3, metric=\"dtw\",max_iter = 900,tol = 1e-08)\n",
    "km.fit(X_train)"
   ]
  },
  {
   "cell_type": "code",
   "execution_count": 21,
   "metadata": {},
   "outputs": [
    {
     "name": "stderr",
     "output_type": "stream",
     "text": [
      "c:\\users\\chinmay\\appdata\\local\\programs\\python\\python37\\lib\\site-packages\\tslearn\\utils.py:91: UserWarning: 2-Dimensional data passed. Assuming these are 32 1-dimensional timeseries\n",
      "  '{} 1-dimensional timeseries'.format(X.shape[0]))\n"
     ]
    },
    {
     "name": "stdout",
     "output_type": "stream",
     "text": [
      "5 15 12 [1. 0. 2. 2. 2. 0. 2. 1. 1. 1. 1. 1. 2. 2. 2. 2. 1. 1. 0. 2. 1. 1. 2. 1.\n",
      " 0. 1. 0. 2. 1. 2. 1. 1.]\n"
     ]
    }
   ],
   "source": [
    "predictions = km.predict(X_train)\n",
    "for c in range(3):\n",
    "    c_0 = np.argwhere(predictions==c)\n",
    "    print(c_0.shape[0],end=' ')\n",
    "c_assign = np.zeros(32)\n",
    "for k in range(3):\n",
    "    c_0 = np.argwhere(predictions==k)\n",
    "    c_assign[c_0] = k\n",
    "#     print(k,c_0)\n",
    "print(c_assign)"
   ]
  },
  {
   "cell_type": "code",
   "execution_count": 30,
   "metadata": {},
   "outputs": [
    {
     "name": "stdout",
     "output_type": "stream",
     "text": [
      "[ 1  5 18 24 26] 115.28676470588235\n",
      "[ 1  5 18 24 26] 118.42892156862744\n",
      "[ 1  5 18 24 26] 131.85049019607843\n",
      "[ 1  5 18 24 26] 127.80882352941177\n",
      "[ 1  5 18 24 26] 123.1696323529412\n",
      "cluster  0 --> 123.30892647058825\n",
      "[ 0  7  8  9 10 11 16 17 20 21 23 25 28 30 31] 96.53186274509804\n",
      "[ 0  7  8  9 10 11 16 17 20 21 23 25 28 30 31] 106.94852941176471\n",
      "[ 0  7  8  9 10 11 16 17 20 21 23 25 28 30 31] 90.32107843137256\n",
      "[ 0  7  8  9 10 11 16 17 20 21 23 25 28 30 31] 95.82107843137256\n",
      "[ 0  7  8  9 10 11 16 17 20 21 23 25 28 30 31] 99.64950980392157\n",
      "[ 0  7  8  9 10 11 16 17 20 21 23 25 28 30 31] 95.02450980392157\n",
      "[ 0  7  8  9 10 11 16 17 20 21 23 25 28 30 31] 86.93455882352931\n",
      "[ 0  7  8  9 10 11 16 17 20 21 23 25 28 30 31] 93.4779411764706\n",
      "[ 0  7  8  9 10 11 16 17 20 21 23 25 28 30 31] 88.69497549019609\n",
      "[ 0  7  8  9 10 11 16 17 20 21 23 25 28 30 31] 87.18625000000003\n",
      "[ 0  7  8  9 10 11 16 17 20 21 23 25 28 30 31] 83.04411764705883\n",
      "[ 0  7  8  9 10 11 16 17 20 21 23 25 28 30 31] 104.16666666666667\n",
      "[ 0  7  8  9 10 11 16 17 20 21 23 25 28 30 31] 88.63480392156863\n",
      "[ 0  7  8  9 10 11 16 17 20 21 23 25 28 30 31] 79.27522058823529\n",
      "[ 0  7  8  9 10 11 16 17 20 21 23 25 28 30 31] 86.81181372549021\n",
      "cluster  1 --> 92.16819444444442\n",
      "[ 2  3  4  6 12 13 14 15 19 22 27 29] 109.92647058823529\n",
      "[ 2  3  4  6 12 13 14 15 19 22 27 29] 104.95375000000007\n",
      "[ 2  3  4  6 12 13 14 15 19 22 27 29] 104.37009803921569\n",
      "[ 2  3  4  6 12 13 14 15 19 22 27 29] 122.33578431372548\n",
      "[ 2  3  4  6 12 13 14 15 19 22 27 29] 125.76470588235294\n",
      "[ 2  3  4  6 12 13 14 15 19 22 27 29] 97.57107843137256\n",
      "[ 2  3  4  6 12 13 14 15 19 22 27 29] 128.2107843137255\n",
      "[ 2  3  4  6 12 13 14 15 19 22 27 29] 101.86781862745097\n",
      "[ 2  3  4  6 12 13 14 15 19 22 27 29] 122.9779411764706\n",
      "[ 2  3  4  6 12 13 14 15 19 22 27 29] 98.02450980392157\n",
      "[ 2  3  4  6 12 13 14 15 19 22 27 29] 116.53676470588235\n",
      "[ 2  3  4  6 12 13 14 15 19 22 27 29] 105.57992647058823\n",
      "cluster  2 --> 111.50996936274511\n"
     ]
    },
    {
     "data": {
      "image/png": "[encoded data removed]",
      "text/plain": [
       "<Figure size 432x288 with 1 Axes>"
      ]
     },
     "metadata": {
      "needs_background": "light"
     },
     "output_type": "display_data"
    }
   ],
   "source": [
    "x = [ i for i in range(204)]\n",
    "\n",
    "colors = ['green','red','blue','yellow','purple','cyan']\n",
    "K = 3\n",
    "for k in range(K):\n",
    "    cluster_avg = 0\n",
    "    size =0\n",
    "    c_k_stations = np.argwhere(c_assign == k).flatten()\n",
    "    cluster_trend = np.zeros((204,))\n",
    "#     print(cluster_trend.shape)\n",
    "    for station in c_k_stations:\n",
    "        \n",
    "        temporal_trend_max  = X_train[station]\n",
    "        y = temporal_trend_max\n",
    "#         print(y.shape)\n",
    "        cluster_trend  = cluster_trend + y\n",
    "        cluster_avg += np.sum(y)\n",
    "        print(c_k_stations,np.sum(y)/204)\n",
    "        size +=1\n",
    "#         if(k in [0,1]):\n",
    "        plt.plot(x,y,color = colors[k])\n",
    "    # Single trend per cluster\n",
    "    cluster_trend = cluster_trend / size\n",
    "    if(k==0):\n",
    "        plt.plot(x,cluster_trend,color = colors[k])\n",
    "    print(\"cluster \",k,\"-->\",cluster_avg/(size*204))\n",
    "    \n",
    "\n",
    "plt.show()\n",
    "\n",
    "    "
   ]
  },
  {
   "cell_type": "code",
   "execution_count": null,
   "metadata": {},
   "outputs": [],
   "source": []
  }
 ],
 "metadata": {
  "kernelspec": {
   "display_name": "Python 3",
   "language": "python",
   "name": "python3"
  },
  "language_info": {
   "codemirror_mode": {
    "name": "ipython",
    "version": 3
   },
   "file_extension": ".py",
   "mimetype": "text/x-python",
   "name": "python",
   "nbconvert_exporter": "python",
   "pygments_lexer": "ipython3",
   "version": "3.7.6"
  }
 },
 "nbformat": 4,
 "nbformat_minor": 4
}
