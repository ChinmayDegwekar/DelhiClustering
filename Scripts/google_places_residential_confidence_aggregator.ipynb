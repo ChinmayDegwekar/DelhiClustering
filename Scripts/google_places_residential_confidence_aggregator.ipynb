{
 "cells": [
  {
   "cell_type": "code",
   "execution_count": 3,
   "metadata": {},
   "outputs": [],
   "source": [
    "#----------------------- Residential Confidence----------------------------\n",
    "residential_gp_cats = { 'Food_daily',\n",
    "                        'Education',\n",
    "                        'Safety',\n",
    "                        'Religion'}\n",
    "commercial_gp_cats = { 'Shopping_Retail',\n",
    "                       'Financial_services',\n",
    "                       'Tourism_and_Entertainment',\n",
    "                       'Transport'\n",
    "                        }\n",
    "# transport, health_service, sports_outdoor"
   ]
  },
  {
   "cell_type": "code",
   "execution_count": 4,
   "metadata": {},
   "outputs": [],
   "source": [
    "import pandas as pd\n",
    "import numpy as np\n",
    "df = pd.read_csv(\"../Data/olx_houses_apartments.csv\",usecols=['Latitude','Longitude'])\n",
    "house_lat_lon = df.values\n",
    "df_shops = pd.read_csv(\"../Data/olx_shops_offices.csv\",usecols=['Latitude','Longitude'])\n",
    "office_lat_lon = df_shops.values\n",
    "g_df = pd.read_csv('../Data/green_cover_delhi_data.csv',usecols=['xmin','ymin','xmax','ymax'])\n",
    "green_bounds = g_df.values\n",
    "places_df = pd.read_csv('../Data/Google_places_unique_data_Categories_redistributed.csv',usecols=['latitude','longitude','SubCategoryClass'])\n",
    "places_lat_lon = places_df.values\n"
   ]
  },
  {
   "cell_type": "code",
   "execution_count": 5,
   "metadata": {},
   "outputs": [
    {
     "name": "stdout",
     "output_type": "stream",
     "text": [
      "100 times 100 boxes done\n",
      "total res,com 847 824\n",
      "76.88740586,28.555104999999998,76.89250847,28.559555,0,0,0\n",
      "200 times 100 boxes done\n",
      "total res,com 1371 1480\n",
      "76.88740586,28.550655,76.89250847,28.555104999999998,0,0,0\n",
      "300 times 100 boxes done\n",
      "total res,com 1763 2005\n",
      "76.89250847,28.546205,76.89761108,28.550655,0,0,0\n",
      "400 times 100 boxes done\n",
      "total res,com 2248 2656\n",
      "76.89761108,28.541755,76.90271369,28.546205,0,0,0\n",
      "500 times 100 boxes done\n",
      "total res,com 2743 3413\n",
      "76.90271369,28.537305,76.90781629,28.541755,0,0,0\n",
      "600 times 100 boxes done\n",
      "total res,com 3157 4071\n",
      "76.90781629,28.532854999999998,76.91291890000001,28.537305,0,0,0\n",
      "700 times 100 boxes done\n",
      "total res,com 3670 4968\n",
      "76.91291890000001,28.528405,76.91802151,28.532854999999998,0,0,0\n",
      "800 times 100 boxes done\n",
      "total res,com 4006 5468\n",
      "76.91802151,28.523954999999997,76.92312412,28.528405,0,0,0\n",
      "900 times 100 boxes done\n",
      "total res,com 4311 6129\n",
      "76.92312412,28.519505,76.92822672,28.523954999999997,0,0,0\n",
      "1000 times 100 boxes done\n",
      "total res,com 5357 6720\n",
      "76.87720065,28.559555,76.88230325,28.564004999999998,0,0,0\n"
     ]
    }
   ],
   "source": [
    "\n",
    "new_file = open('../Data/google_places_data_residence_confidence_result.csv','w')\n",
    "new_file.write('xmin,ymin,xmax,ymax,residential_points,commercial_points,res_confidence\\n')\n",
    "total_res = 0\n",
    "total_com = 0\n",
    "counter = 0\n",
    "for box in green_bounds:\n",
    "    res_points = 0\n",
    "    com_points = 0\n",
    "    res_confidence = 0\n",
    "    for ad in house_lat_lon: # OLX houses  --> Residential\n",
    "        if ad[1]>=box[0] and ad[1]<box[2] and \\\n",
    "           ad[0]>=box[1] and ad[0]<box[3]:\n",
    "                res_points += 1\n",
    "    for ad in places_lat_lon: # Google palces --> residential\n",
    "        if ad[2] in residential_gp_cats:\n",
    "            if ad[1]>=box[0] and ad[1]<box[2] and \\\n",
    "               ad[0]>=box[1] and ad[0]<box[3]:\n",
    "                res_points += 1\n",
    "        if ad[2] in commercial_gp_cats:\n",
    "            if ad[1]>=box[0] and ad[1]<box[2] and \\\n",
    "               ad[0]>=box[1] and ad[0]<box[3]:\n",
    "                com_points += 1\n",
    "    for ad in office_lat_lon: # OLX offices --> commercial\n",
    "        # ad[0] : y , ad[1] : x\n",
    "        #box[xmin,ymin,xmax,ymax]\n",
    "        if ad[1]>=box[0] and ad[1]<box[2] and \\\n",
    "           ad[0]>=box[1] and ad[0]<box[3]:\n",
    "                com_points += 1\n",
    "    if res_points==0 and com_points==0:\n",
    "        res_confidence = 0\n",
    "    else:\n",
    "        res_confidence = res_points / ( res_points + com_points )         \n",
    "    next_line = \",\".join(np.array([str(box[0]),str(box[1]),str(box[2]),str(box[3]),\\\n",
    "                                   str(res_points),str(com_points),str(res_confidence)]))\n",
    "    new_file.write(next_line)\n",
    "    new_file.write('\\n')\n",
    "    total_res += res_points\n",
    "    total_com += com_points\n",
    "    counter+=1\n",
    "    if counter%100 ==0:\n",
    "        print(counter,\"times 100 boxes done\")\n",
    "        print('total res,com',total_res,total_com)\n",
    "        print(next_line)"
   ]
  },
  {
   "cell_type": "code",
   "execution_count": 6,
   "metadata": {},
   "outputs": [],
   "source": [
    "new_file.close()"
   ]
  },
  {
   "cell_type": "code",
   "execution_count": null,
   "metadata": {},
   "outputs": [],
   "source": []
  }
 ],
 "metadata": {
  "kernelspec": {
   "display_name": "Python 3",
   "language": "python",
   "name": "python3"
  },
  "language_info": {
   "codemirror_mode": {
    "name": "ipython",
    "version": 3
   },
   "file_extension": ".py",
   "mimetype": "text/x-python",
   "name": "python",
   "nbconvert_exporter": "python",
   "pygments_lexer": "ipython3",
   "version": "3.7.6"
  }
 },
 "nbformat": 4,
 "nbformat_minor": 4
}
