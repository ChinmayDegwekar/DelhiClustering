{
 "cells": [
  {
   "cell_type": "code",
   "execution_count": 5,
   "metadata": {},
   "outputs": [],
   "source": [
    "import pandas as pd\n",
    "import numpy as np\n",
    "df = pd.read_csv(\"../Data/olx_houses_apartments.csv\",usecols=['Latitude','Longitude'])\n",
    "house_lat_lon = df.values\n",
    "df_shops = pd.read_csv(\"../Data/olx_shops_offices.csv\",usecols=['Latitude','Longitude'])\n",
    "office_lat_lon = df_shops.values\n",
    "g_df = pd.read_csv('../Data/green_cover_delhi_data.csv',usecols=['xmin','ymin','xmax','ymax'])\n",
    "green_bounds = g_df.values\n",
    "places_df = pd.read_csv('../Data/Google_places_unique_data.csv',usecols=['latitude','longitude','SubCategoryClass'])\n",
    "places_lat_lon = places_df.values\n"
   ]
  },
  {
   "cell_type": "code",
   "execution_count": 6,
   "metadata": {},
   "outputs": [
    {
     "data": {
      "text/plain": [
       "1000"
      ]
     },
     "execution_count": 6,
     "metadata": {},
     "output_type": "execute_result"
    }
   ],
   "source": [
    "green_bounds.shape[0]"
   ]
  },
  {
   "cell_type": "code",
   "execution_count": 7,
   "metadata": {},
   "outputs": [
    {
     "ename": "KeyboardInterrupt",
     "evalue": "",
     "output_type": "error",
     "traceback": [
      "\u001b[1;31m---------------------------------------------------------------------------\u001b[0m",
      "\u001b[1;31mKeyboardInterrupt\u001b[0m                         Traceback (most recent call last)",
      "\u001b[1;32m<ipython-input-7-65f97df56535>\u001b[0m in \u001b[0;36m<module>\u001b[1;34m\u001b[0m\n\u001b[0;32m      7\u001b[0m         \u001b[1;31m# ad[0] : y(latitude) , ad[1] : x(longitude)\u001b[0m\u001b[1;33m\u001b[0m\u001b[1;33m\u001b[0m\u001b[1;33m\u001b[0m\u001b[0m\n\u001b[0;32m      8\u001b[0m         \u001b[1;31m#box[xmin,ymin,xmax,ymax]\u001b[0m\u001b[1;33m\u001b[0m\u001b[1;33m\u001b[0m\u001b[1;33m\u001b[0m\u001b[0m\n\u001b[1;32m----> 9\u001b[1;33m         \u001b[1;32mif\u001b[0m \u001b[0mad\u001b[0m\u001b[1;33m[\u001b[0m\u001b[1;36m1\u001b[0m\u001b[1;33m]\u001b[0m\u001b[1;33m>=\u001b[0m\u001b[0mbox\u001b[0m\u001b[1;33m[\u001b[0m\u001b[1;36m0\u001b[0m\u001b[1;33m]\u001b[0m \u001b[1;32mand\u001b[0m \u001b[0mad\u001b[0m\u001b[1;33m[\u001b[0m\u001b[1;36m1\u001b[0m\u001b[1;33m]\u001b[0m\u001b[1;33m<\u001b[0m\u001b[0mbox\u001b[0m\u001b[1;33m[\u001b[0m\u001b[1;36m2\u001b[0m\u001b[1;33m]\u001b[0m \u001b[1;32mand\u001b[0m\u001b[0;31m \u001b[0m\u001b[0;31m\\\u001b[0m\u001b[1;33m\u001b[0m\u001b[1;33m\u001b[0m\u001b[0m\n\u001b[0m\u001b[0;32m     10\u001b[0m            \u001b[0mad\u001b[0m\u001b[1;33m[\u001b[0m\u001b[1;36m0\u001b[0m\u001b[1;33m]\u001b[0m\u001b[1;33m>=\u001b[0m\u001b[0mbox\u001b[0m\u001b[1;33m[\u001b[0m\u001b[1;36m1\u001b[0m\u001b[1;33m]\u001b[0m \u001b[1;32mand\u001b[0m \u001b[0mad\u001b[0m\u001b[1;33m[\u001b[0m\u001b[1;36m0\u001b[0m\u001b[1;33m]\u001b[0m\u001b[1;33m<\u001b[0m\u001b[0mbox\u001b[0m\u001b[1;33m[\u001b[0m\u001b[1;36m3\u001b[0m\u001b[1;33m]\u001b[0m\u001b[1;33m:\u001b[0m\u001b[1;33m\u001b[0m\u001b[1;33m\u001b[0m\u001b[0m\n\u001b[0;32m     11\u001b[0m                 \u001b[0mbox_house_count\u001b[0m \u001b[1;33m+=\u001b[0m \u001b[1;36m1\u001b[0m\u001b[1;33m\u001b[0m\u001b[1;33m\u001b[0m\u001b[0m\n",
      "\u001b[1;31mKeyboardInterrupt\u001b[0m: "
     ]
    }
   ],
   "source": [
    "new_file = open('../Data/greencover_olx_&_google_places_data.csv','w')\n",
    "new_file.write('xmin,ymin,xmax,ymax,olx_houses,olx_offices,gp_groceries,gp_shops_restaurants,gp_tansport\\n')\n",
    "box_progress = 0\n",
    "for box in green_bounds:\n",
    "    box_house_count = 0\n",
    "    for ad in house_lat_lon:\n",
    "        # ad[0] : y(latitude) , ad[1] : x(longitude)\n",
    "        #box[xmin,ymin,xmax,ymax]\n",
    "        if ad[1]>=box[0] and ad[1]<box[2] and \\\n",
    "           ad[0]>=box[1] and ad[0]<box[3]:\n",
    "                box_house_count += 1\n",
    "    box_office_count = 0\n",
    "    for ad in office_lat_lon:\n",
    "        # ad[0] : y , ad[1] : x\n",
    "        #box[xmin,ymin,xmax,ymax]\n",
    "        if ad[1]>=box[0] and ad[1]<box[2] and \\\n",
    "           ad[0]>=box[1] and ad[0]<box[3]:\n",
    "                box_house_count += 1\n",
    "    box_gp_groceries = 0\n",
    "    box_gp_shops_restaurants = 0\n",
    "    box_gp_transport = 0\n",
    "    for ad in places_lat_lon:\n",
    "        # ad[0] : y , ad[1] : x\n",
    "        #box[xmin,ymin,xmax,ymax]\n",
    "        # Just considering single subclass category\n",
    "        if ad[1]>=box[0] and ad[1]<box[2] and \\\n",
    "           ad[0]>=box[1] and ad[0]<box[3]:\n",
    "                if(ad[2] == 'Food_daily'):\n",
    "                    box_gp_groceries += 1\n",
    "                if(ad[2] == 'Shopping_Retail'):\n",
    "                    box_gp_shops_restaurants +=1\n",
    "                if(ad[2] == 'Transport_and_Safety'):\n",
    "                    box_gp_transport +=1\n",
    "                \n",
    "        \n",
    "    next_line = \",\".join(np.array([str(box[0]),str(box[1]),str(box[2]),str(box[3]),\\\n",
    "                                   str(box_house_count),str(box_office_count),\\\n",
    "                                   str(box_gp_groceries),\\\n",
    "                                   str(box_gp_shops_restaurants),\\\n",
    "                                   str(box_gp_transport)]))\n",
    "    new_file.write(next_line)\n",
    "    new_file.write('\\n')\n",
    "    box_progress +=1\n",
    "    if(box_progress%100 ==0):\n",
    "        print(box_progress,\"(es) processed out of \",green_bounds.shape[0])\n",
    "\n",
    "new_file.close()"
   ]
  },
  {
   "cell_type": "code",
   "execution_count": 8,
   "metadata": {},
   "outputs": [],
   "source": [
    "new_file.close()\n"
   ]
  },
  {
   "cell_type": "code",
   "execution_count": 10,
   "metadata": {},
   "outputs": [],
   "source": [
    "#----------------------- Residential Confidence----------------------------\n",
    "residential_gp_cats = { 'Food_daily',\n",
    "                        'Education',\n",
    "                        'Safety',\n",
    "                        'Religion'}\n",
    "commercial_gp_cats = { 'Shopping_Retail',\n",
    "                       'Financial_services',\n",
    "                       'Tourism_and_Entertainment',\n",
    "                       'Transport'\n",
    "                        }\n",
    "# transport, health_service, sports_outdoor"
   ]
  },
  {
   "cell_type": "code",
   "execution_count": 11,
   "metadata": {},
   "outputs": [],
   "source": [
    "import pandas as pd\n",
    "import numpy as np\n",
    "df = pd.read_csv(\"../Data/olx_houses_apartments.csv\",usecols=['Latitude','Longitude'])\n",
    "house_lat_lon = df.values\n",
    "df_shops = pd.read_csv(\"../Data/olx_shops_offices.csv\",usecols=['Latitude','Longitude'])\n",
    "office_lat_lon = df_shops.values\n",
    "g_df = pd.read_csv('../Data/green_cover_delhi_data.csv',usecols=['xmin','ymin','xmax','ymax'])\n",
    "green_bounds = g_df.values\n",
    "places_df = pd.read_csv('../Data/Google_places_unique_data_Categories_redistributed.csv',usecols=['latitude','longitude','SubCategoryClass'])\n",
    "places_lat_lon = places_df.values\n"
   ]
  },
  {
   "cell_type": "code",
   "execution_count": 12,
   "metadata": {},
   "outputs": [
    {
     "ename": "SyntaxError",
     "evalue": "invalid syntax (<ipython-input-12-a7bee816e7b6>, line 37)",
     "output_type": "error",
     "traceback": [
      "\u001b[1;36m  File \u001b[1;32m\"<ipython-input-12-a7bee816e7b6>\"\u001b[1;36m, line \u001b[1;32m37\u001b[0m\n\u001b[1;33m    if counter%100 ==0\u001b[0m\n\u001b[1;37m                      ^\u001b[0m\n\u001b[1;31mSyntaxError\u001b[0m\u001b[1;31m:\u001b[0m invalid syntax\n"
     ]
    }
   ],
   "source": [
    "print('xmin,ymin,xmax,ymax,res_points,com_points')\n",
    "total_res = 0\n",
    "total_com = 0\n",
    "counter = 0\n",
    "for box in green_bounds:\n",
    "    res_points = 0\n",
    "    com_points = 0\n",
    "    res_confidence = 0\n",
    "    for ad in house_lat_lon: # OLX houses  --> Residential\n",
    "        if ad[1]>=box[0] and ad[1]<box[2] and \\\n",
    "           ad[0]>=box[1] and ad[0]<box[3]:\n",
    "                res_points += 1\n",
    "    for ad in places_lat_lon: # Google palces --> residential\n",
    "        if ad[2] in residential_gp_cats:\n",
    "            if ad[1]>=box[0] and ad[1]<box[2] and \\\n",
    "               ad[0]>=box[1] and ad[0]<box[3]:\n",
    "                res_points += 1\n",
    "        if ad[2] in commercial_gp_cats:\n",
    "            if ad[1]>=box[0] and ad[1]<box[2] and \\\n",
    "               ad[0]>=box[1] and ad[0]<box[3]:\n",
    "                com_points += 1\n",
    "    for ad in office_lat_lon: # OLX offices --> commercial\n",
    "        # ad[0] : y , ad[1] : x\n",
    "        #box[xmin,ymin,xmax,ymax]\n",
    "        if ad[1]>=box[0] and ad[1]<box[2] and \\\n",
    "           ad[0]>=box[1] and ad[0]<box[3]:\n",
    "                com_points += 1\n",
    "    if res_points==0 and com_points==0:\n",
    "        res_confidence = 0\n",
    "    else:\n",
    "        res_confidence = res_points / ( res_points + com_points )         \n",
    "    next_line = \",\".join(np.array([str(box[0]),str(box[1]),str(box[2]),str(box[3]),\\\n",
    "                                   str(res_points),str(com_points),str(res_confidence)]))\n",
    "    total_res += res_points\n",
    "    total_com += com_points\n",
    "    counter+=1\n",
    "    if counter%100 ==0:\n",
    "        print(counter,\"times 100 boxes done\")\n",
    "        print('total res,com',total_res,total_com)\n",
    "        print(next_line)"
   ]
  },
  {
   "cell_type": "code",
   "execution_count": null,
   "metadata": {},
   "outputs": [],
   "source": []
  }
 ],
 "metadata": {
  "kernelspec": {
   "display_name": "Python 3",
   "language": "python",
   "name": "python3"
  },
  "language_info": {
   "codemirror_mode": {
    "name": "ipython",
    "version": 3
   },
   "file_extension": ".py",
   "mimetype": "text/x-python",
   "name": "python",
   "nbconvert_exporter": "python",
   "pygments_lexer": "ipython3",
   "version": "3.7.6"
  }
 },
 "nbformat": 4,
 "nbformat_minor": 4
}
